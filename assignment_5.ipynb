{
 "cells": [
  {
   "cell_type": "markdown",
   "id": "dd21efe9",
   "metadata": {},
   "source": [
    "# Assignment 5\n",
    "### Do all four questions."
   ]
  },
  {
   "cell_type": "markdown",
   "id": "1ee9b4e8",
   "metadata": {},
   "source": [
    "**1.** Let's review some basic matrix multiplication. When you have an $M \\times N$ matrix $A$ with $M$ rows and $N$ columns, \n",
    "$$\n",
    "A= \\left[ \\begin{array}{cccc} a_{11} & a_{12} & ... & a_{1N} \\\\\n",
    "a_{21} & a_{22} & ... & a_{2N} \\\\\n",
    "\\vdots & \\vdots & ... & \\vdots \\\\\n",
    "a_{M1} & a_{M2} & ... & a_{MN} \n",
    "\\end{array} \\right],\n",
    "$$\n",
    "and you right-multiply it by a vector\n",
    "$$\n",
    "x = \\left[ \\begin{array}{c} x_1 \\\\ x_2 \\\\ \\vdots \\\\ x_N \n",
    "\\end{array} \\right],\n",
    "$$\n",
    "you get\n",
    "$$\n",
    "Ax = \\left[ \\begin{array}{c} \\sum_{i=1}^N a_{1i} x_i \\\\ \\sum_{i=1}^N a_{2i} x_i \\\\ \\vdots \\\\ \\sum_{i=1}^N a_{Mi} x_i \n",
    "\\end{array} \\right].\n",
    "$$\n",
    "This is just \"matrix row times column vector\" element-by-element, stacking the results into a new vector.\n",
    "\n",
    "For this to make sense, $N$ must be the same for the matrix and the vector, but $M$ can be different from $N$. \n",
    "\n",
    "Let's play with some NumPy to see this. First we'll define a matrix $A$:"
   ]
  },
  {
   "cell_type": "code",
   "execution_count": 1,
   "id": "33df3579",
   "metadata": {},
   "outputs": [
    {
     "data": {
      "text/plain": [
       "array([[1, 2, 3],\n",
       "       [4, 5, 6],\n",
       "       [7, 8, 9]])"
      ]
     },
     "execution_count": 1,
     "metadata": {},
     "output_type": "execute_result"
    }
   ],
   "source": [
    "import numpy as np\n",
    "\n",
    "A = np.array([ [1,2,3],\n",
    "              [4,5,6],\n",
    "              [7,8,9]])\n",
    "A"
   ]
  },
  {
   "cell_type": "markdown",
   "id": "94b1b3ac",
   "metadata": {},
   "source": [
    "a. Multiply $A$ times each of the following vectors using the @ operator. Explain which part of the $A$ matrix gets selected and explain why, using the definition of matrix multiplication. "
   ]
  },
  {
   "cell_type": "code",
   "execution_count": 2,
   "id": "5b6148d2",
   "metadata": {},
   "outputs": [],
   "source": [
    "e_1 = np.array([1,0,0])\n",
    "e_2 = np.array([0,1,0])\n",
    "e_3 = np.array([0,0,1])"
   ]
  },
  {
   "cell_type": "code",
   "execution_count": 3,
   "id": "cda2130e",
   "metadata": {},
   "outputs": [
    {
     "data": {
      "text/plain": [
       "array([1, 4, 7])"
      ]
     },
     "execution_count": 3,
     "metadata": {},
     "output_type": "execute_result"
    }
   ],
   "source": [
    "A@e_1"
   ]
  },
  {
   "cell_type": "markdown",
   "id": "587a8603",
   "metadata": {},
   "source": [
    "The first column is selected from A when right multiplied with e_1"
   ]
  },
  {
   "cell_type": "code",
   "execution_count": 4,
   "id": "55412433",
   "metadata": {},
   "outputs": [
    {
     "data": {
      "text/plain": [
       "array([2, 5, 8])"
      ]
     },
     "execution_count": 4,
     "metadata": {},
     "output_type": "execute_result"
    }
   ],
   "source": [
    "A@e_2"
   ]
  },
  {
   "cell_type": "markdown",
   "id": "4406d223",
   "metadata": {},
   "source": [
    "The second column is selected from A when right multiplied with e_2"
   ]
  },
  {
   "cell_type": "code",
   "execution_count": 5,
   "id": "eddee599",
   "metadata": {},
   "outputs": [
    {
     "data": {
      "text/plain": [
       "array([3, 6, 9])"
      ]
     },
     "execution_count": 5,
     "metadata": {},
     "output_type": "execute_result"
    }
   ],
   "source": [
    "A@e_3"
   ]
  },
  {
   "cell_type": "markdown",
   "id": "4de0182c",
   "metadata": {},
   "source": [
    "The third column is selected from A when right multiplied with e_3"
   ]
  },
  {
   "cell_type": "markdown",
   "id": "72a4704e",
   "metadata": {},
   "source": [
    "b. Now multiply $A$ times $u = (1,1,1)$. Explain the logic of the result with the definition of matrix multiplication."
   ]
  },
  {
   "cell_type": "code",
   "execution_count": 6,
   "id": "5bf73f9b",
   "metadata": {},
   "outputs": [],
   "source": [
    "u = np.ones(3)"
   ]
  },
  {
   "cell_type": "code",
   "execution_count": 7,
   "id": "04a63859",
   "metadata": {},
   "outputs": [
    {
     "data": {
      "text/plain": [
       "array([ 6., 15., 24.])"
      ]
     },
     "execution_count": 7,
     "metadata": {},
     "output_type": "execute_result"
    }
   ],
   "source": [
    "A@u"
   ]
  },
  {
   "cell_type": "markdown",
   "id": "b9d9dde1",
   "metadata": {},
   "source": [
    "The result is a vector with each entry being the sum of each row of A. Each entry of the product Au is a dot product of a row of \n",
    "A with the vector u."
   ]
  },
  {
   "cell_type": "markdown",
   "id": "dde75eab",
   "metadata": {},
   "source": [
    "c. Whenever a matrix has 1's on the diagonal and zeros everywhere else, we call it an **identity matrix**. What happens when you multiple $A$ times $x$ below? What happens when you multiple an identity matrix times any vector? Explain your result with the definition of matrix multiplication."
   ]
  },
  {
   "cell_type": "code",
   "execution_count": 8,
   "id": "b0d349c4",
   "metadata": {},
   "outputs": [],
   "source": [
    "A = np.array([ [1,0,0],\n",
    "              [0,1,0],\n",
    "              [0,0,1]])\n",
    "x = np.array([-2,4,11])\n"
   ]
  },
  {
   "cell_type": "code",
   "execution_count": 9,
   "id": "88ee444e",
   "metadata": {},
   "outputs": [
    {
     "data": {
      "text/plain": [
       "array([-2,  4, 11])"
      ]
     },
     "execution_count": 9,
     "metadata": {},
     "output_type": "execute_result"
    }
   ],
   "source": [
    "A@x"
   ]
  },
  {
   "cell_type": "markdown",
   "id": "19efd98f",
   "metadata": {},
   "source": [
    "It returns x. An identity matrix times any vector results in the original vector. The ones on the diagonals in the identity matrix select each entry in x and zero out the rest. "
   ]
  },
  {
   "cell_type": "markdown",
   "id": "57141925",
   "metadata": {},
   "source": [
    "d. What if every row and column sum to 1, but the 1's are no longer on the diagonal? Multiple $A$ times $X$ below and explain the result. Create another matrix whose rows and columns sum to 1, but is not an identity matrix, and show how it permutes the values of $x$. "
   ]
  },
  {
   "cell_type": "code",
   "execution_count": 10,
   "id": "83a9ed11",
   "metadata": {},
   "outputs": [],
   "source": [
    "A = np.array([ [0,0,1],\n",
    "              [1,0,0],\n",
    "              [0,1,0]])\n",
    "x = np.array([-2,4,11])\n"
   ]
  },
  {
   "cell_type": "code",
   "execution_count": 11,
   "id": "8c1941a0",
   "metadata": {},
   "outputs": [
    {
     "data": {
      "text/plain": [
       "array([11, -2,  4])"
      ]
     },
     "execution_count": 11,
     "metadata": {},
     "output_type": "execute_result"
    }
   ],
   "source": [
    "A@x"
   ]
  },
  {
   "cell_type": "markdown",
   "id": "cbd85fe6",
   "metadata": {},
   "source": [
    "The matrix A multiplied by x rearranges the entries of x. The third entry of x is moved to the first, the first is moved to the second, and the second is moved to the third."
   ]
  },
  {
   "cell_type": "code",
   "execution_count": 12,
   "id": "d1deacef",
   "metadata": {},
   "outputs": [],
   "source": [
    "A1 = np.array([ [0,1,0],\n",
    "              [0,0,1],\n",
    "              [1,0,0]])"
   ]
  },
  {
   "cell_type": "code",
   "execution_count": 13,
   "id": "7bca7677",
   "metadata": {},
   "outputs": [
    {
     "data": {
      "text/plain": [
       "array([ 4, 11, -2])"
      ]
     },
     "execution_count": 13,
     "metadata": {},
     "output_type": "execute_result"
    }
   ],
   "source": [
    "A1@x"
   ]
  },
  {
   "cell_type": "markdown",
   "id": "8daa5776",
   "metadata": {},
   "source": [
    "With this matrix, A1, the second entry of x is moved to the first, the third is moved to the second, and the first is moved to the third."
   ]
  },
  {
   "cell_type": "markdown",
   "id": "611c26c3",
   "metadata": {},
   "source": [
    "e. The next matrix $A$ could be a Markov transition matrix: Its columns sum to 1, and each entry $a_{ij}$ can be interpreted as the proportion of observations who moved from state $j$ to state $i$. Multiply $A$ by each of the vectors $e_1$, $e_2$, and $e_3$, and explain your results."
   ]
  },
  {
   "cell_type": "code",
   "execution_count": 14,
   "id": "aff4fb97",
   "metadata": {},
   "outputs": [
    {
     "name": "stdout",
     "output_type": "stream",
     "text": [
      "[[0.50052958 0.24049286 0.18358131]\n",
      " [0.02574731 0.39251588 0.37907577]\n",
      " [0.47372311 0.36699127 0.43734292]]\n"
     ]
    }
   ],
   "source": [
    "rng = np.random.default_rng(100)\n",
    "A = rng.random((3,3)) # Generate a random 3X3 matrix\n",
    "sums = np.sum(A,axis=0) # Column sums\n",
    "A = A/sums # Normalize the columns so they sum to 1\n",
    "print(A)"
   ]
  },
  {
   "cell_type": "code",
   "execution_count": 15,
   "id": "2d811570",
   "metadata": {},
   "outputs": [
    {
     "data": {
      "text/plain": [
       "array([0.50052958, 0.02574731, 0.47372311])"
      ]
     },
     "execution_count": 15,
     "metadata": {},
     "output_type": "execute_result"
    }
   ],
   "source": [
    "A@e_1"
   ]
  },
  {
   "cell_type": "markdown",
   "id": "72888877",
   "metadata": {},
   "source": [
    "This is the first column of A. It represents the states that started in state one and the proportion of states that either stayed in state one, moved to state two, or moved to state three."
   ]
  },
  {
   "cell_type": "code",
   "execution_count": 16,
   "id": "2ad4af82",
   "metadata": {},
   "outputs": [
    {
     "data": {
      "text/plain": [
       "array([0.24049286, 0.39251588, 0.36699127])"
      ]
     },
     "execution_count": 16,
     "metadata": {},
     "output_type": "execute_result"
    }
   ],
   "source": [
    "A@e_2"
   ]
  },
  {
   "cell_type": "markdown",
   "id": "ed463f0f",
   "metadata": {},
   "source": [
    "This is the second column of A. It represents the states that started in state two and the proportion of states that either stayed in state two, moved to state one, or moved to state three."
   ]
  },
  {
   "cell_type": "code",
   "execution_count": 17,
   "id": "3bfd2037",
   "metadata": {},
   "outputs": [
    {
     "data": {
      "text/plain": [
       "array([0.18358131, 0.37907577, 0.43734292])"
      ]
     },
     "execution_count": 17,
     "metadata": {},
     "output_type": "execute_result"
    }
   ],
   "source": [
    "A@e_3"
   ]
  },
  {
   "cell_type": "markdown",
   "id": "30a3489f",
   "metadata": {},
   "source": [
    "This is the third column of A. It represents the states that started in state three and the proportion of states that either stayed in state three, moved to state two, or moved to state one."
   ]
  },
  {
   "cell_type": "markdown",
   "id": "0647bfa7",
   "metadata": {},
   "source": [
    "f. For each of the vectors $e_1, e_2, e_3$, multiple $A$ times that vector 5 times. What answer do you get for each starting vector? Describe the behavior you observe."
   ]
  },
  {
   "cell_type": "code",
   "execution_count": 18,
   "id": "daa1a550",
   "metadata": {},
   "outputs": [
    {
     "data": {
      "text/plain": [
       "array([0.29266551, 0.29197422, 0.29171646])"
      ]
     },
     "execution_count": 18,
     "metadata": {},
     "output_type": "execute_result"
    }
   ],
   "source": [
    "for i in range(5):\n",
    "    e_1 = e_1@A\n",
    "e_1"
   ]
  },
  {
   "cell_type": "code",
   "execution_count": 19,
   "id": "7b4113dc",
   "metadata": {},
   "outputs": [
    {
     "data": {
      "text/plain": [
       "array([0.27862515, 0.27979983, 0.2802254 ])"
      ]
     },
     "execution_count": 19,
     "metadata": {},
     "output_type": "execute_result"
    }
   ],
   "source": [
    "for i in range(5):\n",
    "    e_2 = e_2@A\n",
    "e_2"
   ]
  },
  {
   "cell_type": "code",
   "execution_count": 20,
   "id": "1fabdafa",
   "metadata": {},
   "outputs": [
    {
     "data": {
      "text/plain": [
       "array([0.42870935, 0.42822595, 0.42805814])"
      ]
     },
     "execution_count": 20,
     "metadata": {},
     "output_type": "execute_result"
    }
   ],
   "source": [
    "for i in range(5):\n",
    "    e_3 = e_3@A\n",
    "e_3"
   ]
  },
  {
   "cell_type": "markdown",
   "id": "4ff8fa63",
   "metadata": {},
   "source": [
    "The vectors approach a steady state where each state converges. The starting state no longer matters as the transition to any other state is equally likely. "
   ]
  },
  {
   "cell_type": "markdown",
   "id": "fa2c9a93",
   "metadata": {},
   "source": [
    "*2.* Let's consider a simple Markov transition matrix over two states:\n",
    "$$\n",
    "T = \\left[ \\begin{array}{cc} p_{1\\leftarrow 1} &  p_{1\\leftarrow 2} \\\\\n",
    "p_{2 \\leftarrow 1} & p_{2 \\leftarrow 2} \\end{array}\\right] \n",
    "$$\n",
    "The arrows help visualize the transition a bit: This is the same index notation as usual, $p_{ij}$, but writing it $p_{i \\leftarrow j}$ emphasizes that it's the proportion of times that state $j$ transitions to state $i$. Below, $T$ is given by\n",
    "$$\n",
    "T = \\left[ \\begin{array}{cc} .25 & .5 \\\\\n",
    ".75 & .5 \\end{array}\\right].\n",
    "$$\n",
    "\n",
    "- Start in state 1, at the initial condition $[1,0]$. Multiply that vector by $T$. Write out the result in terms of the formula and compute the result in a code chunk below. What is this object you're looking at, in terms of proportions and transitions?\n",
    "- Multiple by $T$ again. What do you get? This isn't a column of $T$. Explain in words what it is. (Hint: A forecast of what in what period?)\n",
    "- Keep multiplying the current vector of outcomes by $T$. When does it start to settle down without changing further?\n",
    "- Do the above analysis again, starting from the initial condition $[0,1]$. Do you get a different result?\n",
    "- The take-away is that, in the long run, these chains settle down into the long-run proportions, and the sensitivity on initial conditions vanishes. \n"
   ]
  },
  {
   "cell_type": "code",
   "execution_count": 21,
   "id": "4b6a775f",
   "metadata": {},
   "outputs": [],
   "source": [
    "T = np.array([[ 1/4, 1/2],\n",
    "                 [ 3/4, 1/2 ]])"
   ]
  },
  {
   "cell_type": "code",
   "execution_count": 22,
   "id": "c58dcbb7",
   "metadata": {},
   "outputs": [
    {
     "data": {
      "text/plain": [
       "array([0.25, 0.75])"
      ]
     },
     "execution_count": 22,
     "metadata": {},
     "output_type": "execute_result"
    }
   ],
   "source": [
    "initial_state = np.array([1,0])\n",
    "state_2= T@initial_state\n",
    "state_2"
   ]
  },
  {
   "cell_type": "markdown",
   "id": "66e31e63",
   "metadata": {},
   "source": [
    "This is the first column of the transition matrix T. This represents that 25% of states stay in state one and 75% of states move to state two given that we start in state one."
   ]
  },
  {
   "cell_type": "code",
   "execution_count": 23,
   "id": "c6b8778e",
   "metadata": {},
   "outputs": [
    {
     "data": {
      "text/plain": [
       "array([0.4375, 0.5625])"
      ]
     },
     "execution_count": 23,
     "metadata": {},
     "output_type": "execute_result"
    }
   ],
   "source": [
    "state_3 = T@state_2\n",
    "state_3"
   ]
  },
  {
   "cell_type": "markdown",
   "id": "c50eeca4",
   "metadata": {},
   "source": [
    "This represents the forecast of the expected proportions of the population in each state after two time periods, starting entirely in state 1 at time 0 and evolving according to the transition rules in T. "
   ]
  },
  {
   "cell_type": "code",
   "execution_count": 24,
   "id": "53a5c94c",
   "metadata": {},
   "outputs": [
    {
     "name": "stdout",
     "output_type": "stream",
     "text": [
      "0: [0.390625 0.609375]\n",
      "1: [0.40234375 0.59765625]\n",
      "2: [0.39941406 0.60058594]\n",
      "3: [0.40014648 0.59985352]\n",
      "4: [0.39996338 0.60003662]\n",
      "5: [0.40000916 0.59999084]\n",
      "6: [0.39999771 0.60000229]\n",
      "7: [0.40000057 0.59999943]\n",
      "8: [0.39999986 0.60000014]\n",
      "9: [0.40000004 0.59999996]\n"
     ]
    }
   ],
   "source": [
    "state = state_3\n",
    "for i in range(10):\n",
    "    state = T@state\n",
    "    print(f'{i}: {state}')"
   ]
  },
  {
   "cell_type": "markdown",
   "id": "85719d28",
   "metadata": {},
   "source": [
    "After one or two more transitions, the probabilities begin to converge to 0.40 and 0.60."
   ]
  },
  {
   "cell_type": "code",
   "execution_count": 25,
   "id": "78952131",
   "metadata": {},
   "outputs": [
    {
     "data": {
      "text/plain": [
       "array([0.5, 0.5])"
      ]
     },
     "execution_count": 25,
     "metadata": {},
     "output_type": "execute_result"
    }
   ],
   "source": [
    "initial_state = np.array([0,1])\n",
    "state_2= T@initial_state\n",
    "state_2"
   ]
  },
  {
   "cell_type": "code",
   "execution_count": 26,
   "id": "4d5516e4",
   "metadata": {},
   "outputs": [
    {
     "data": {
      "text/plain": [
       "array([0.375, 0.625])"
      ]
     },
     "execution_count": 26,
     "metadata": {},
     "output_type": "execute_result"
    }
   ],
   "source": [
    "state_3 = T@state_2\n",
    "state_3"
   ]
  },
  {
   "cell_type": "code",
   "execution_count": 27,
   "id": "969d214b",
   "metadata": {},
   "outputs": [
    {
     "name": "stdout",
     "output_type": "stream",
     "text": [
      "0: [0.40625 0.59375]\n",
      "1: [0.3984375 0.6015625]\n",
      "2: [0.40039062 0.59960938]\n",
      "3: [0.39990234 0.60009766]\n",
      "4: [0.40002441 0.59997559]\n",
      "5: [0.3999939 0.6000061]\n",
      "6: [0.40000153 0.59999847]\n",
      "7: [0.39999962 0.60000038]\n",
      "8: [0.4000001 0.5999999]\n",
      "9: [0.39999998 0.60000002]\n"
     ]
    }
   ],
   "source": [
    "state = state_3\n",
    "for i in range(10):\n",
    "    state = T@state\n",
    "    print(f'{i}: {state}')"
   ]
  },
  {
   "cell_type": "markdown",
   "id": "3e5fea58",
   "metadata": {},
   "source": [
    "The first transitions are different as they are relying on the different initial state, but overtime they converge to the same proportions."
   ]
  },
  {
   "cell_type": "markdown",
   "id": "921592e9",
   "metadata": {},
   "source": [
    "3. Weather data\n",
    "\n",
    "- Load the `cville_weather.csv` data. This includes data from Jan 4, 2024 to Feb 2, 2025. Are there any missing data issues?\n",
    "- Based on the precipitation variable, `PRCP`, make a new variable called `rain` that takes the value 1 if `PRCP`>0 and 0 otherwise.\n",
    "- Build a two-state Markov chain over the states 0 and 1 for the `rain` variable. \n",
    "- For your chain from c, how likely is it to rain if it was rainy yesterday? How likely is it to rain if it was clear yesterday?\n",
    "- Starting from a clear day, forecast the distribution. How quickly does it converge to a fixed result? What if you start from a rainy day?\n",
    "- Conditional on being rainy, plot a KDE of the `PRCP` variable.\n",
    "- Describe one way of making your model better for forecasting and simulation the weather.\n",
    "\n",
    "Congratulations, you now are a non-parametric meteorologist!"
   ]
  },
  {
   "cell_type": "code",
   "execution_count": 28,
   "id": "c7b28f8b",
   "metadata": {},
   "outputs": [],
   "source": [
    "import pandas as pd\n",
    "import numpy as np"
   ]
  },
  {
   "cell_type": "code",
   "execution_count": 29,
   "id": "c1dd2a6b",
   "metadata": {},
   "outputs": [
    {
     "name": "stdout",
     "output_type": "stream",
     "text": [
      "<class 'pandas.core.frame.DataFrame'>\n",
      "RangeIndex: 411 entries, 0 to 410\n",
      "Data columns (total 13 columns):\n",
      " #   Column           Non-Null Count  Dtype  \n",
      "---  ------           --------------  -----  \n",
      " 0   STATION          411 non-null    object \n",
      " 1   NAME             411 non-null    object \n",
      " 2   DATE             411 non-null    object \n",
      " 3   DAPR             12 non-null     float64\n",
      " 4   DAPR_ATTRIBUTES  12 non-null     object \n",
      " 5   MDPR             12 non-null     float64\n",
      " 6   MDPR_ATTRIBUTES  12 non-null     object \n",
      " 7   PRCP             399 non-null    float64\n",
      " 8   PRCP_ATTRIBUTES  399 non-null    object \n",
      " 9   SNOW             223 non-null    float64\n",
      " 10  SNOW_ATTRIBUTES  223 non-null    object \n",
      " 11  SNWD             1 non-null      float64\n",
      " 12  SNWD_ATTRIBUTES  1 non-null      object \n",
      "dtypes: float64(5), object(8)\n",
      "memory usage: 41.9+ KB\n"
     ]
    }
   ],
   "source": [
    "weather = pd.read_csv('cville_weather.csv')\n",
    "weather.info()"
   ]
  },
  {
   "cell_type": "code",
   "execution_count": 30,
   "id": "6324d0f9",
   "metadata": {},
   "outputs": [
    {
     "data": {
      "application/vnd.microsoft.datawrangler.viewer.v0+json": {
       "columns": [
        {
         "name": "NAME",
         "rawType": "object",
         "type": "string"
        },
        {
         "name": "count",
         "rawType": "int64",
         "type": "integer"
        }
       ],
       "ref": "0e6a5e6d-5362-49f0-b8ac-3ac45bc40210",
       "rows": [
        [
         "CHARLOTTESVILLE 0.5 NNE, VA US",
         "271"
        ],
        [
         "CHARLOTTESVILLE 8.4 W, VA US",
         "140"
        ]
       ],
       "shape": {
        "columns": 1,
        "rows": 2
       }
      },
      "text/plain": [
       "NAME\n",
       "CHARLOTTESVILLE 0.5 NNE, VA US    271\n",
       "CHARLOTTESVILLE 8.4 W, VA US      140\n",
       "Name: count, dtype: int64"
      ]
     },
     "execution_count": 30,
     "metadata": {},
     "output_type": "execute_result"
    }
   ],
   "source": [
    "weather['NAME'].value_counts()\n"
   ]
  },
  {
   "cell_type": "markdown",
   "id": "27f778d7",
   "metadata": {},
   "source": [
    "There are two locations where the weather is being recorded. We can select one for the purpose of our analysis and drop all rows missing PRCP."
   ]
  },
  {
   "cell_type": "code",
   "execution_count": 31,
   "id": "63c73089",
   "metadata": {},
   "outputs": [
    {
     "data": {
      "application/vnd.microsoft.datawrangler.viewer.v0+json": {
       "columns": [
        {
         "name": "index",
         "rawType": "int64",
         "type": "integer"
        },
        {
         "name": "STATION",
         "rawType": "object",
         "type": "string"
        },
        {
         "name": "NAME",
         "rawType": "object",
         "type": "string"
        },
        {
         "name": "DATE",
         "rawType": "object",
         "type": "string"
        },
        {
         "name": "DAPR",
         "rawType": "float64",
         "type": "float"
        },
        {
         "name": "DAPR_ATTRIBUTES",
         "rawType": "object",
         "type": "unknown"
        },
        {
         "name": "MDPR",
         "rawType": "float64",
         "type": "float"
        },
        {
         "name": "MDPR_ATTRIBUTES",
         "rawType": "object",
         "type": "unknown"
        },
        {
         "name": "PRCP",
         "rawType": "float64",
         "type": "float"
        },
        {
         "name": "PRCP_ATTRIBUTES",
         "rawType": "object",
         "type": "string"
        },
        {
         "name": "SNOW",
         "rawType": "float64",
         "type": "float"
        },
        {
         "name": "SNOW_ATTRIBUTES",
         "rawType": "object",
         "type": "unknown"
        },
        {
         "name": "SNWD",
         "rawType": "float64",
         "type": "float"
        },
        {
         "name": "SNWD_ATTRIBUTES",
         "rawType": "object",
         "type": "unknown"
        }
       ],
       "ref": "489602bd-c991-42b9-93cf-098aaf573515",
       "rows": [
        [
         "0",
         "US1VACRC002",
         "CHARLOTTESVILLE 0.5 NNE, VA US",
         "2024-01-04",
         null,
         null,
         null,
         null,
         "0.03",
         ",,N",
         null,
         null,
         null,
         null
        ],
        [
         "1",
         "US1VACRC002",
         "CHARLOTTESVILLE 0.5 NNE, VA US",
         "2024-01-07",
         null,
         null,
         null,
         null,
         "1.08",
         ",,N",
         null,
         null,
         null,
         null
        ],
        [
         "2",
         "US1VACRC002",
         "CHARLOTTESVILLE 0.5 NNE, VA US",
         "2024-01-09",
         null,
         null,
         null,
         null,
         "0.24",
         ",,N",
         null,
         null,
         null,
         null
        ],
        [
         "3",
         "US1VACRC002",
         "CHARLOTTESVILLE 0.5 NNE, VA US",
         "2024-01-10",
         null,
         null,
         null,
         null,
         "3.0",
         ",,N",
         null,
         null,
         null,
         null
        ],
        [
         "4",
         "US1VACRC002",
         "CHARLOTTESVILLE 0.5 NNE, VA US",
         "2024-01-24",
         null,
         null,
         null,
         null,
         "0.0",
         ",,N",
         "0.0",
         ",,N",
         null,
         null
        ],
        [
         "5",
         "US1VACRC002",
         "CHARLOTTESVILLE 0.5 NNE, VA US",
         "2024-01-25",
         null,
         null,
         null,
         null,
         "0.18",
         ",,N",
         null,
         null,
         null,
         null
        ],
        [
         "6",
         "US1VACRC002",
         "CHARLOTTESVILLE 0.5 NNE, VA US",
         "2024-01-26",
         null,
         null,
         null,
         null,
         "0.08",
         ",,N",
         null,
         null,
         null,
         null
        ],
        [
         "7",
         "US1VACRC002",
         "CHARLOTTESVILLE 0.5 NNE, VA US",
         "2024-01-27",
         null,
         null,
         null,
         null,
         "0.0",
         ",,N",
         "0.0",
         ",,N",
         null,
         null
        ],
        [
         "8",
         "US1VACRC002",
         "CHARLOTTESVILLE 0.5 NNE, VA US",
         "2024-01-28",
         null,
         null,
         null,
         null,
         "1.29",
         ",,N",
         null,
         null,
         null,
         null
        ],
        [
         "9",
         "US1VACRC002",
         "CHARLOTTESVILLE 0.5 NNE, VA US",
         "2024-01-29",
         null,
         null,
         null,
         null,
         "0.19",
         ",,N",
         null,
         null,
         null,
         null
        ],
        [
         "10",
         "US1VACRC002",
         "CHARLOTTESVILLE 0.5 NNE, VA US",
         "2024-01-30",
         null,
         null,
         null,
         null,
         "0.0",
         ",,N",
         "0.0",
         ",,N",
         null,
         null
        ],
        [
         "11",
         "US1VACRC002",
         "CHARLOTTESVILLE 0.5 NNE, VA US",
         "2024-01-31",
         null,
         null,
         null,
         null,
         "0.02",
         ",,N",
         null,
         null,
         null,
         null
        ],
        [
         "12",
         "US1VACRC002",
         "CHARLOTTESVILLE 0.5 NNE, VA US",
         "2024-02-01",
         null,
         null,
         null,
         null,
         "0.0",
         ",,N",
         "0.0",
         ",,N",
         null,
         null
        ],
        [
         "13",
         "US1VACRC002",
         "CHARLOTTESVILLE 0.5 NNE, VA US",
         "2024-02-02",
         null,
         null,
         null,
         null,
         "0.0",
         ",,N",
         "0.0",
         ",,N",
         null,
         null
        ],
        [
         "14",
         "US1VACRC002",
         "CHARLOTTESVILLE 0.5 NNE, VA US",
         "2024-02-03",
         null,
         null,
         null,
         null,
         "0.0",
         ",,N",
         "0.0",
         ",,N",
         null,
         null
        ],
        [
         "15",
         "US1VACRC002",
         "CHARLOTTESVILLE 0.5 NNE, VA US",
         "2024-02-04",
         null,
         null,
         null,
         null,
         "0.0",
         ",,N",
         "0.0",
         ",,N",
         null,
         null
        ],
        [
         "16",
         "US1VACRC002",
         "CHARLOTTESVILLE 0.5 NNE, VA US",
         "2024-02-05",
         null,
         null,
         null,
         null,
         "0.0",
         ",,N",
         "0.0",
         ",,N",
         null,
         null
        ],
        [
         "17",
         "US1VACRC002",
         "CHARLOTTESVILLE 0.5 NNE, VA US",
         "2024-02-06",
         null,
         null,
         null,
         null,
         "0.0",
         ",,N",
         "0.0",
         ",,N",
         null,
         null
        ],
        [
         "18",
         "US1VACRC002",
         "CHARLOTTESVILLE 0.5 NNE, VA US",
         "2024-02-07",
         null,
         null,
         null,
         null,
         "0.0",
         ",,N",
         "0.0",
         ",,N",
         null,
         null
        ],
        [
         "19",
         "US1VACRC002",
         "CHARLOTTESVILLE 0.5 NNE, VA US",
         "2024-02-08",
         null,
         null,
         null,
         null,
         "0.0",
         ",,N",
         "0.0",
         ",,N",
         null,
         null
        ],
        [
         "20",
         "US1VACRC002",
         "CHARLOTTESVILLE 0.5 NNE, VA US",
         "2024-02-09",
         null,
         null,
         null,
         null,
         "0.0",
         ",,N",
         "0.0",
         ",,N",
         null,
         null
        ],
        [
         "21",
         "US1VACRC002",
         "CHARLOTTESVILLE 0.5 NNE, VA US",
         "2024-02-10",
         null,
         null,
         null,
         null,
         "0.0",
         ",,N",
         "0.0",
         ",,N",
         null,
         null
        ],
        [
         "22",
         "US1VACRC002",
         "CHARLOTTESVILLE 0.5 NNE, VA US",
         "2024-02-11",
         null,
         null,
         null,
         null,
         "0.14",
         ",,N",
         null,
         null,
         null,
         null
        ],
        [
         "23",
         "US1VACRC002",
         "CHARLOTTESVILLE 0.5 NNE, VA US",
         "2024-02-12",
         null,
         null,
         null,
         null,
         "0.25",
         ",,N",
         null,
         null,
         null,
         null
        ],
        [
         "24",
         "US1VACRC002",
         "CHARLOTTESVILLE 0.5 NNE, VA US",
         "2024-02-13",
         null,
         null,
         null,
         null,
         "0.92",
         ",,N",
         null,
         null,
         null,
         null
        ],
        [
         "25",
         "US1VACRC002",
         "CHARLOTTESVILLE 0.5 NNE, VA US",
         "2024-02-14",
         null,
         null,
         null,
         null,
         "0.0",
         ",,N",
         "0.0",
         ",,N",
         null,
         null
        ],
        [
         "26",
         "US1VACRC002",
         "CHARLOTTESVILLE 0.5 NNE, VA US",
         "2024-02-15",
         null,
         null,
         null,
         null,
         "0.0",
         ",,N",
         "0.0",
         ",,N",
         null,
         null
        ],
        [
         "27",
         "US1VACRC002",
         "CHARLOTTESVILLE 0.5 NNE, VA US",
         "2024-02-16",
         null,
         null,
         null,
         null,
         "0.0",
         ",,N",
         "0.0",
         ",,N",
         null,
         null
        ],
        [
         "28",
         "US1VACRC002",
         "CHARLOTTESVILLE 0.5 NNE, VA US",
         "2024-02-17",
         null,
         null,
         null,
         null,
         "0.0",
         ",,N",
         "0.0",
         ",,N",
         null,
         null
        ],
        [
         "29",
         "US1VACRC002",
         "CHARLOTTESVILLE 0.5 NNE, VA US",
         "2024-02-18",
         null,
         null,
         null,
         null,
         "0.07",
         ",,N",
         null,
         null,
         null,
         null
        ],
        [
         "30",
         "US1VACRC002",
         "CHARLOTTESVILLE 0.5 NNE, VA US",
         "2024-02-19",
         null,
         null,
         null,
         null,
         "0.0",
         ",,N",
         "0.0",
         ",,N",
         null,
         null
        ],
        [
         "31",
         "US1VACRC002",
         "CHARLOTTESVILLE 0.5 NNE, VA US",
         "2024-02-20",
         null,
         null,
         null,
         null,
         "0.0",
         ",,N",
         "0.0",
         ",,N",
         null,
         null
        ],
        [
         "32",
         "US1VACRC002",
         "CHARLOTTESVILLE 0.5 NNE, VA US",
         "2024-02-21",
         null,
         null,
         null,
         null,
         "0.0",
         ",,N",
         "0.0",
         ",,N",
         null,
         null
        ],
        [
         "33",
         "US1VACRC002",
         "CHARLOTTESVILLE 0.5 NNE, VA US",
         "2024-02-22",
         null,
         null,
         null,
         null,
         "0.0",
         ",,N",
         "0.0",
         ",,N",
         null,
         null
        ],
        [
         "34",
         "US1VACRC002",
         "CHARLOTTESVILLE 0.5 NNE, VA US",
         "2024-02-23",
         null,
         null,
         null,
         null,
         "0.0",
         ",,N",
         "0.0",
         ",,N",
         null,
         null
        ],
        [
         "35",
         "US1VACRC002",
         "CHARLOTTESVILLE 0.5 NNE, VA US",
         "2024-02-24",
         null,
         null,
         null,
         null,
         "0.12",
         ",,N",
         null,
         null,
         null,
         null
        ],
        [
         "36",
         "US1VACRC002",
         "CHARLOTTESVILLE 0.5 NNE, VA US",
         "2024-02-25",
         null,
         null,
         null,
         null,
         "0.36",
         ",,N",
         null,
         null,
         null,
         null
        ],
        [
         "37",
         "US1VACRC002",
         "CHARLOTTESVILLE 0.5 NNE, VA US",
         "2024-02-26",
         null,
         null,
         null,
         null,
         "0.0",
         ",,N",
         "0.0",
         ",,N",
         null,
         null
        ],
        [
         "38",
         "US1VACRC002",
         "CHARLOTTESVILLE 0.5 NNE, VA US",
         "2024-02-27",
         null,
         null,
         null,
         null,
         "0.0",
         ",,N",
         "0.0",
         ",,N",
         null,
         null
        ],
        [
         "39",
         "US1VACRC002",
         "CHARLOTTESVILLE 0.5 NNE, VA US",
         "2024-02-28",
         null,
         null,
         null,
         null,
         "0.22",
         ",,N",
         null,
         null,
         null,
         null
        ],
        [
         "40",
         "US1VACRC002",
         "CHARLOTTESVILLE 0.5 NNE, VA US",
         "2024-03-01",
         null,
         null,
         null,
         null,
         "0.0",
         ",,N",
         "0.0",
         ",,N",
         null,
         null
        ],
        [
         "42",
         "US1VACRC002",
         "CHARLOTTESVILLE 0.5 NNE, VA US",
         "2024-03-07",
         null,
         null,
         null,
         null,
         "0.25",
         ",,N",
         null,
         null,
         null,
         null
        ],
        [
         "43",
         "US1VACRC002",
         "CHARLOTTESVILLE 0.5 NNE, VA US",
         "2024-03-09",
         null,
         null,
         null,
         null,
         "0.22",
         ",,N",
         null,
         null,
         null,
         null
        ],
        [
         "44",
         "US1VACRC002",
         "CHARLOTTESVILLE 0.5 NNE, VA US",
         "2024-03-23",
         null,
         null,
         null,
         null,
         "0.99",
         ",,N",
         null,
         null,
         null,
         null
        ],
        [
         "45",
         "US1VACRC002",
         "CHARLOTTESVILLE 0.5 NNE, VA US",
         "2024-03-24",
         null,
         null,
         null,
         null,
         "0.0",
         ",,N",
         "0.0",
         ",,N",
         null,
         null
        ],
        [
         "46",
         "US1VACRC002",
         "CHARLOTTESVILLE 0.5 NNE, VA US",
         "2024-03-25",
         null,
         null,
         null,
         null,
         "0.0",
         ",,N",
         "0.0",
         ",,N",
         null,
         null
        ],
        [
         "47",
         "US1VACRC002",
         "CHARLOTTESVILLE 0.5 NNE, VA US",
         "2024-03-26",
         null,
         null,
         null,
         null,
         "0.0",
         ",,N",
         "0.0",
         ",,N",
         null,
         null
        ],
        [
         "48",
         "US1VACRC002",
         "CHARLOTTESVILLE 0.5 NNE, VA US",
         "2024-03-27",
         null,
         null,
         null,
         null,
         "0.0",
         ",,N",
         "0.0",
         ",,N",
         null,
         null
        ],
        [
         "49",
         "US1VACRC002",
         "CHARLOTTESVILLE 0.5 NNE, VA US",
         "2024-03-28",
         null,
         null,
         null,
         null,
         "0.47",
         ",,N",
         null,
         null,
         null,
         null
        ],
        [
         "50",
         "US1VACRC002",
         "CHARLOTTESVILLE 0.5 NNE, VA US",
         "2024-03-29",
         null,
         null,
         null,
         null,
         "0.0",
         ",,N",
         "0.0",
         ",,N",
         null,
         null
        ]
       ],
       "shape": {
        "columns": 13,
        "rows": 264
       }
      },
      "text/html": [
       "<div>\n",
       "<style scoped>\n",
       "    .dataframe tbody tr th:only-of-type {\n",
       "        vertical-align: middle;\n",
       "    }\n",
       "\n",
       "    .dataframe tbody tr th {\n",
       "        vertical-align: top;\n",
       "    }\n",
       "\n",
       "    .dataframe thead th {\n",
       "        text-align: right;\n",
       "    }\n",
       "</style>\n",
       "<table border=\"1\" class=\"dataframe\">\n",
       "  <thead>\n",
       "    <tr style=\"text-align: right;\">\n",
       "      <th></th>\n",
       "      <th>STATION</th>\n",
       "      <th>NAME</th>\n",
       "      <th>DATE</th>\n",
       "      <th>DAPR</th>\n",
       "      <th>DAPR_ATTRIBUTES</th>\n",
       "      <th>MDPR</th>\n",
       "      <th>MDPR_ATTRIBUTES</th>\n",
       "      <th>PRCP</th>\n",
       "      <th>PRCP_ATTRIBUTES</th>\n",
       "      <th>SNOW</th>\n",
       "      <th>SNOW_ATTRIBUTES</th>\n",
       "      <th>SNWD</th>\n",
       "      <th>SNWD_ATTRIBUTES</th>\n",
       "    </tr>\n",
       "  </thead>\n",
       "  <tbody>\n",
       "    <tr>\n",
       "      <th>0</th>\n",
       "      <td>US1VACRC002</td>\n",
       "      <td>CHARLOTTESVILLE 0.5 NNE, VA US</td>\n",
       "      <td>2024-01-04</td>\n",
       "      <td>NaN</td>\n",
       "      <td>NaN</td>\n",
       "      <td>NaN</td>\n",
       "      <td>NaN</td>\n",
       "      <td>0.03</td>\n",
       "      <td>,,N</td>\n",
       "      <td>NaN</td>\n",
       "      <td>NaN</td>\n",
       "      <td>NaN</td>\n",
       "      <td>NaN</td>\n",
       "    </tr>\n",
       "    <tr>\n",
       "      <th>1</th>\n",
       "      <td>US1VACRC002</td>\n",
       "      <td>CHARLOTTESVILLE 0.5 NNE, VA US</td>\n",
       "      <td>2024-01-07</td>\n",
       "      <td>NaN</td>\n",
       "      <td>NaN</td>\n",
       "      <td>NaN</td>\n",
       "      <td>NaN</td>\n",
       "      <td>1.08</td>\n",
       "      <td>,,N</td>\n",
       "      <td>NaN</td>\n",
       "      <td>NaN</td>\n",
       "      <td>NaN</td>\n",
       "      <td>NaN</td>\n",
       "    </tr>\n",
       "    <tr>\n",
       "      <th>2</th>\n",
       "      <td>US1VACRC002</td>\n",
       "      <td>CHARLOTTESVILLE 0.5 NNE, VA US</td>\n",
       "      <td>2024-01-09</td>\n",
       "      <td>NaN</td>\n",
       "      <td>NaN</td>\n",
       "      <td>NaN</td>\n",
       "      <td>NaN</td>\n",
       "      <td>0.24</td>\n",
       "      <td>,,N</td>\n",
       "      <td>NaN</td>\n",
       "      <td>NaN</td>\n",
       "      <td>NaN</td>\n",
       "      <td>NaN</td>\n",
       "    </tr>\n",
       "    <tr>\n",
       "      <th>3</th>\n",
       "      <td>US1VACRC002</td>\n",
       "      <td>CHARLOTTESVILLE 0.5 NNE, VA US</td>\n",
       "      <td>2024-01-10</td>\n",
       "      <td>NaN</td>\n",
       "      <td>NaN</td>\n",
       "      <td>NaN</td>\n",
       "      <td>NaN</td>\n",
       "      <td>3.00</td>\n",
       "      <td>,,N</td>\n",
       "      <td>NaN</td>\n",
       "      <td>NaN</td>\n",
       "      <td>NaN</td>\n",
       "      <td>NaN</td>\n",
       "    </tr>\n",
       "    <tr>\n",
       "      <th>4</th>\n",
       "      <td>US1VACRC002</td>\n",
       "      <td>CHARLOTTESVILLE 0.5 NNE, VA US</td>\n",
       "      <td>2024-01-24</td>\n",
       "      <td>NaN</td>\n",
       "      <td>NaN</td>\n",
       "      <td>NaN</td>\n",
       "      <td>NaN</td>\n",
       "      <td>0.00</td>\n",
       "      <td>,,N</td>\n",
       "      <td>0.0</td>\n",
       "      <td>,,N</td>\n",
       "      <td>NaN</td>\n",
       "      <td>NaN</td>\n",
       "    </tr>\n",
       "    <tr>\n",
       "      <th>...</th>\n",
       "      <td>...</td>\n",
       "      <td>...</td>\n",
       "      <td>...</td>\n",
       "      <td>...</td>\n",
       "      <td>...</td>\n",
       "      <td>...</td>\n",
       "      <td>...</td>\n",
       "      <td>...</td>\n",
       "      <td>...</td>\n",
       "      <td>...</td>\n",
       "      <td>...</td>\n",
       "      <td>...</td>\n",
       "      <td>...</td>\n",
       "    </tr>\n",
       "    <tr>\n",
       "      <th>266</th>\n",
       "      <td>US1VACRC002</td>\n",
       "      <td>CHARLOTTESVILLE 0.5 NNE, VA US</td>\n",
       "      <td>2025-09-18</td>\n",
       "      <td>NaN</td>\n",
       "      <td>NaN</td>\n",
       "      <td>NaN</td>\n",
       "      <td>NaN</td>\n",
       "      <td>0.04</td>\n",
       "      <td>,,N</td>\n",
       "      <td>NaN</td>\n",
       "      <td>NaN</td>\n",
       "      <td>NaN</td>\n",
       "      <td>NaN</td>\n",
       "    </tr>\n",
       "    <tr>\n",
       "      <th>267</th>\n",
       "      <td>US1VACRC002</td>\n",
       "      <td>CHARLOTTESVILLE 0.5 NNE, VA US</td>\n",
       "      <td>2025-09-21</td>\n",
       "      <td>NaN</td>\n",
       "      <td>NaN</td>\n",
       "      <td>NaN</td>\n",
       "      <td>NaN</td>\n",
       "      <td>0.38</td>\n",
       "      <td>,,N</td>\n",
       "      <td>NaN</td>\n",
       "      <td>NaN</td>\n",
       "      <td>NaN</td>\n",
       "      <td>NaN</td>\n",
       "    </tr>\n",
       "    <tr>\n",
       "      <th>268</th>\n",
       "      <td>US1VACRC002</td>\n",
       "      <td>CHARLOTTESVILLE 0.5 NNE, VA US</td>\n",
       "      <td>2025-09-25</td>\n",
       "      <td>NaN</td>\n",
       "      <td>NaN</td>\n",
       "      <td>NaN</td>\n",
       "      <td>NaN</td>\n",
       "      <td>0.29</td>\n",
       "      <td>,,N</td>\n",
       "      <td>NaN</td>\n",
       "      <td>NaN</td>\n",
       "      <td>NaN</td>\n",
       "      <td>NaN</td>\n",
       "    </tr>\n",
       "    <tr>\n",
       "      <th>269</th>\n",
       "      <td>US1VACRC002</td>\n",
       "      <td>CHARLOTTESVILLE 0.5 NNE, VA US</td>\n",
       "      <td>2025-09-27</td>\n",
       "      <td>NaN</td>\n",
       "      <td>NaN</td>\n",
       "      <td>NaN</td>\n",
       "      <td>NaN</td>\n",
       "      <td>0.24</td>\n",
       "      <td>,,N</td>\n",
       "      <td>NaN</td>\n",
       "      <td>NaN</td>\n",
       "      <td>NaN</td>\n",
       "      <td>NaN</td>\n",
       "    </tr>\n",
       "    <tr>\n",
       "      <th>270</th>\n",
       "      <td>US1VACRC002</td>\n",
       "      <td>CHARLOTTESVILLE 0.5 NNE, VA US</td>\n",
       "      <td>2025-09-28</td>\n",
       "      <td>NaN</td>\n",
       "      <td>NaN</td>\n",
       "      <td>NaN</td>\n",
       "      <td>NaN</td>\n",
       "      <td>0.60</td>\n",
       "      <td>,,N</td>\n",
       "      <td>NaN</td>\n",
       "      <td>NaN</td>\n",
       "      <td>NaN</td>\n",
       "      <td>NaN</td>\n",
       "    </tr>\n",
       "  </tbody>\n",
       "</table>\n",
       "<p>264 rows × 13 columns</p>\n",
       "</div>"
      ],
      "text/plain": [
       "         STATION                            NAME        DATE  DAPR  \\\n",
       "0    US1VACRC002  CHARLOTTESVILLE 0.5 NNE, VA US  2024-01-04   NaN   \n",
       "1    US1VACRC002  CHARLOTTESVILLE 0.5 NNE, VA US  2024-01-07   NaN   \n",
       "2    US1VACRC002  CHARLOTTESVILLE 0.5 NNE, VA US  2024-01-09   NaN   \n",
       "3    US1VACRC002  CHARLOTTESVILLE 0.5 NNE, VA US  2024-01-10   NaN   \n",
       "4    US1VACRC002  CHARLOTTESVILLE 0.5 NNE, VA US  2024-01-24   NaN   \n",
       "..           ...                             ...         ...   ...   \n",
       "266  US1VACRC002  CHARLOTTESVILLE 0.5 NNE, VA US  2025-09-18   NaN   \n",
       "267  US1VACRC002  CHARLOTTESVILLE 0.5 NNE, VA US  2025-09-21   NaN   \n",
       "268  US1VACRC002  CHARLOTTESVILLE 0.5 NNE, VA US  2025-09-25   NaN   \n",
       "269  US1VACRC002  CHARLOTTESVILLE 0.5 NNE, VA US  2025-09-27   NaN   \n",
       "270  US1VACRC002  CHARLOTTESVILLE 0.5 NNE, VA US  2025-09-28   NaN   \n",
       "\n",
       "    DAPR_ATTRIBUTES  MDPR MDPR_ATTRIBUTES  PRCP PRCP_ATTRIBUTES  SNOW  \\\n",
       "0               NaN   NaN             NaN  0.03             ,,N   NaN   \n",
       "1               NaN   NaN             NaN  1.08             ,,N   NaN   \n",
       "2               NaN   NaN             NaN  0.24             ,,N   NaN   \n",
       "3               NaN   NaN             NaN  3.00             ,,N   NaN   \n",
       "4               NaN   NaN             NaN  0.00             ,,N   0.0   \n",
       "..              ...   ...             ...   ...             ...   ...   \n",
       "266             NaN   NaN             NaN  0.04             ,,N   NaN   \n",
       "267             NaN   NaN             NaN  0.38             ,,N   NaN   \n",
       "268             NaN   NaN             NaN  0.29             ,,N   NaN   \n",
       "269             NaN   NaN             NaN  0.24             ,,N   NaN   \n",
       "270             NaN   NaN             NaN  0.60             ,,N   NaN   \n",
       "\n",
       "    SNOW_ATTRIBUTES  SNWD SNWD_ATTRIBUTES  \n",
       "0               NaN   NaN             NaN  \n",
       "1               NaN   NaN             NaN  \n",
       "2               NaN   NaN             NaN  \n",
       "3               NaN   NaN             NaN  \n",
       "4               ,,N   NaN             NaN  \n",
       "..              ...   ...             ...  \n",
       "266             NaN   NaN             NaN  \n",
       "267             NaN   NaN             NaN  \n",
       "268             NaN   NaN             NaN  \n",
       "269             NaN   NaN             NaN  \n",
       "270             NaN   NaN             NaN  \n",
       "\n",
       "[264 rows x 13 columns]"
      ]
     },
     "execution_count": 31,
     "metadata": {},
     "output_type": "execute_result"
    }
   ],
   "source": [
    "weather = weather[weather['NAME'] == 'CHARLOTTESVILLE 0.5 NNE, VA US']\n",
    "weather = weather.dropna(subset=['PRCP'])\n",
    "weather"
   ]
  },
  {
   "cell_type": "code",
   "execution_count": 32,
   "id": "a3d269bd",
   "metadata": {},
   "outputs": [
    {
     "data": {
      "application/vnd.microsoft.datawrangler.viewer.v0+json": {
       "columns": [
        {
         "name": "index",
         "rawType": "int64",
         "type": "integer"
        },
        {
         "name": "STATION",
         "rawType": "object",
         "type": "string"
        },
        {
         "name": "NAME",
         "rawType": "object",
         "type": "string"
        },
        {
         "name": "DATE",
         "rawType": "object",
         "type": "string"
        },
        {
         "name": "DAPR",
         "rawType": "float64",
         "type": "float"
        },
        {
         "name": "DAPR_ATTRIBUTES",
         "rawType": "object",
         "type": "unknown"
        },
        {
         "name": "MDPR",
         "rawType": "float64",
         "type": "float"
        },
        {
         "name": "MDPR_ATTRIBUTES",
         "rawType": "object",
         "type": "unknown"
        },
        {
         "name": "PRCP",
         "rawType": "float64",
         "type": "float"
        },
        {
         "name": "PRCP_ATTRIBUTES",
         "rawType": "object",
         "type": "string"
        },
        {
         "name": "SNOW",
         "rawType": "float64",
         "type": "float"
        },
        {
         "name": "SNOW_ATTRIBUTES",
         "rawType": "object",
         "type": "unknown"
        },
        {
         "name": "SNWD",
         "rawType": "float64",
         "type": "float"
        },
        {
         "name": "SNWD_ATTRIBUTES",
         "rawType": "object",
         "type": "unknown"
        },
        {
         "name": "rain",
         "rawType": "int64",
         "type": "integer"
        }
       ],
       "ref": "0c373df8-fac3-4a45-88b1-2428f9a70931",
       "rows": [
        [
         "0",
         "US1VACRC002",
         "CHARLOTTESVILLE 0.5 NNE, VA US",
         "2024-01-04",
         null,
         null,
         null,
         null,
         "0.03",
         ",,N",
         null,
         null,
         null,
         null,
         "1"
        ],
        [
         "1",
         "US1VACRC002",
         "CHARLOTTESVILLE 0.5 NNE, VA US",
         "2024-01-07",
         null,
         null,
         null,
         null,
         "1.08",
         ",,N",
         null,
         null,
         null,
         null,
         "1"
        ],
        [
         "2",
         "US1VACRC002",
         "CHARLOTTESVILLE 0.5 NNE, VA US",
         "2024-01-09",
         null,
         null,
         null,
         null,
         "0.24",
         ",,N",
         null,
         null,
         null,
         null,
         "1"
        ],
        [
         "3",
         "US1VACRC002",
         "CHARLOTTESVILLE 0.5 NNE, VA US",
         "2024-01-10",
         null,
         null,
         null,
         null,
         "3.0",
         ",,N",
         null,
         null,
         null,
         null,
         "1"
        ],
        [
         "4",
         "US1VACRC002",
         "CHARLOTTESVILLE 0.5 NNE, VA US",
         "2024-01-24",
         null,
         null,
         null,
         null,
         "0.0",
         ",,N",
         "0.0",
         ",,N",
         null,
         null,
         "0"
        ],
        [
         "5",
         "US1VACRC002",
         "CHARLOTTESVILLE 0.5 NNE, VA US",
         "2024-01-25",
         null,
         null,
         null,
         null,
         "0.18",
         ",,N",
         null,
         null,
         null,
         null,
         "1"
        ],
        [
         "6",
         "US1VACRC002",
         "CHARLOTTESVILLE 0.5 NNE, VA US",
         "2024-01-26",
         null,
         null,
         null,
         null,
         "0.08",
         ",,N",
         null,
         null,
         null,
         null,
         "1"
        ],
        [
         "7",
         "US1VACRC002",
         "CHARLOTTESVILLE 0.5 NNE, VA US",
         "2024-01-27",
         null,
         null,
         null,
         null,
         "0.0",
         ",,N",
         "0.0",
         ",,N",
         null,
         null,
         "0"
        ],
        [
         "8",
         "US1VACRC002",
         "CHARLOTTESVILLE 0.5 NNE, VA US",
         "2024-01-28",
         null,
         null,
         null,
         null,
         "1.29",
         ",,N",
         null,
         null,
         null,
         null,
         "1"
        ],
        [
         "9",
         "US1VACRC002",
         "CHARLOTTESVILLE 0.5 NNE, VA US",
         "2024-01-29",
         null,
         null,
         null,
         null,
         "0.19",
         ",,N",
         null,
         null,
         null,
         null,
         "1"
        ],
        [
         "10",
         "US1VACRC002",
         "CHARLOTTESVILLE 0.5 NNE, VA US",
         "2024-01-30",
         null,
         null,
         null,
         null,
         "0.0",
         ",,N",
         "0.0",
         ",,N",
         null,
         null,
         "0"
        ],
        [
         "11",
         "US1VACRC002",
         "CHARLOTTESVILLE 0.5 NNE, VA US",
         "2024-01-31",
         null,
         null,
         null,
         null,
         "0.02",
         ",,N",
         null,
         null,
         null,
         null,
         "1"
        ],
        [
         "12",
         "US1VACRC002",
         "CHARLOTTESVILLE 0.5 NNE, VA US",
         "2024-02-01",
         null,
         null,
         null,
         null,
         "0.0",
         ",,N",
         "0.0",
         ",,N",
         null,
         null,
         "0"
        ],
        [
         "13",
         "US1VACRC002",
         "CHARLOTTESVILLE 0.5 NNE, VA US",
         "2024-02-02",
         null,
         null,
         null,
         null,
         "0.0",
         ",,N",
         "0.0",
         ",,N",
         null,
         null,
         "0"
        ],
        [
         "14",
         "US1VACRC002",
         "CHARLOTTESVILLE 0.5 NNE, VA US",
         "2024-02-03",
         null,
         null,
         null,
         null,
         "0.0",
         ",,N",
         "0.0",
         ",,N",
         null,
         null,
         "0"
        ],
        [
         "15",
         "US1VACRC002",
         "CHARLOTTESVILLE 0.5 NNE, VA US",
         "2024-02-04",
         null,
         null,
         null,
         null,
         "0.0",
         ",,N",
         "0.0",
         ",,N",
         null,
         null,
         "0"
        ],
        [
         "16",
         "US1VACRC002",
         "CHARLOTTESVILLE 0.5 NNE, VA US",
         "2024-02-05",
         null,
         null,
         null,
         null,
         "0.0",
         ",,N",
         "0.0",
         ",,N",
         null,
         null,
         "0"
        ],
        [
         "17",
         "US1VACRC002",
         "CHARLOTTESVILLE 0.5 NNE, VA US",
         "2024-02-06",
         null,
         null,
         null,
         null,
         "0.0",
         ",,N",
         "0.0",
         ",,N",
         null,
         null,
         "0"
        ],
        [
         "18",
         "US1VACRC002",
         "CHARLOTTESVILLE 0.5 NNE, VA US",
         "2024-02-07",
         null,
         null,
         null,
         null,
         "0.0",
         ",,N",
         "0.0",
         ",,N",
         null,
         null,
         "0"
        ],
        [
         "19",
         "US1VACRC002",
         "CHARLOTTESVILLE 0.5 NNE, VA US",
         "2024-02-08",
         null,
         null,
         null,
         null,
         "0.0",
         ",,N",
         "0.0",
         ",,N",
         null,
         null,
         "0"
        ],
        [
         "20",
         "US1VACRC002",
         "CHARLOTTESVILLE 0.5 NNE, VA US",
         "2024-02-09",
         null,
         null,
         null,
         null,
         "0.0",
         ",,N",
         "0.0",
         ",,N",
         null,
         null,
         "0"
        ],
        [
         "21",
         "US1VACRC002",
         "CHARLOTTESVILLE 0.5 NNE, VA US",
         "2024-02-10",
         null,
         null,
         null,
         null,
         "0.0",
         ",,N",
         "0.0",
         ",,N",
         null,
         null,
         "0"
        ],
        [
         "22",
         "US1VACRC002",
         "CHARLOTTESVILLE 0.5 NNE, VA US",
         "2024-02-11",
         null,
         null,
         null,
         null,
         "0.14",
         ",,N",
         null,
         null,
         null,
         null,
         "1"
        ],
        [
         "23",
         "US1VACRC002",
         "CHARLOTTESVILLE 0.5 NNE, VA US",
         "2024-02-12",
         null,
         null,
         null,
         null,
         "0.25",
         ",,N",
         null,
         null,
         null,
         null,
         "1"
        ],
        [
         "24",
         "US1VACRC002",
         "CHARLOTTESVILLE 0.5 NNE, VA US",
         "2024-02-13",
         null,
         null,
         null,
         null,
         "0.92",
         ",,N",
         null,
         null,
         null,
         null,
         "1"
        ],
        [
         "25",
         "US1VACRC002",
         "CHARLOTTESVILLE 0.5 NNE, VA US",
         "2024-02-14",
         null,
         null,
         null,
         null,
         "0.0",
         ",,N",
         "0.0",
         ",,N",
         null,
         null,
         "0"
        ],
        [
         "26",
         "US1VACRC002",
         "CHARLOTTESVILLE 0.5 NNE, VA US",
         "2024-02-15",
         null,
         null,
         null,
         null,
         "0.0",
         ",,N",
         "0.0",
         ",,N",
         null,
         null,
         "0"
        ],
        [
         "27",
         "US1VACRC002",
         "CHARLOTTESVILLE 0.5 NNE, VA US",
         "2024-02-16",
         null,
         null,
         null,
         null,
         "0.0",
         ",,N",
         "0.0",
         ",,N",
         null,
         null,
         "0"
        ],
        [
         "28",
         "US1VACRC002",
         "CHARLOTTESVILLE 0.5 NNE, VA US",
         "2024-02-17",
         null,
         null,
         null,
         null,
         "0.0",
         ",,N",
         "0.0",
         ",,N",
         null,
         null,
         "0"
        ],
        [
         "29",
         "US1VACRC002",
         "CHARLOTTESVILLE 0.5 NNE, VA US",
         "2024-02-18",
         null,
         null,
         null,
         null,
         "0.07",
         ",,N",
         null,
         null,
         null,
         null,
         "1"
        ],
        [
         "30",
         "US1VACRC002",
         "CHARLOTTESVILLE 0.5 NNE, VA US",
         "2024-02-19",
         null,
         null,
         null,
         null,
         "0.0",
         ",,N",
         "0.0",
         ",,N",
         null,
         null,
         "0"
        ],
        [
         "31",
         "US1VACRC002",
         "CHARLOTTESVILLE 0.5 NNE, VA US",
         "2024-02-20",
         null,
         null,
         null,
         null,
         "0.0",
         ",,N",
         "0.0",
         ",,N",
         null,
         null,
         "0"
        ],
        [
         "32",
         "US1VACRC002",
         "CHARLOTTESVILLE 0.5 NNE, VA US",
         "2024-02-21",
         null,
         null,
         null,
         null,
         "0.0",
         ",,N",
         "0.0",
         ",,N",
         null,
         null,
         "0"
        ],
        [
         "33",
         "US1VACRC002",
         "CHARLOTTESVILLE 0.5 NNE, VA US",
         "2024-02-22",
         null,
         null,
         null,
         null,
         "0.0",
         ",,N",
         "0.0",
         ",,N",
         null,
         null,
         "0"
        ],
        [
         "34",
         "US1VACRC002",
         "CHARLOTTESVILLE 0.5 NNE, VA US",
         "2024-02-23",
         null,
         null,
         null,
         null,
         "0.0",
         ",,N",
         "0.0",
         ",,N",
         null,
         null,
         "0"
        ],
        [
         "35",
         "US1VACRC002",
         "CHARLOTTESVILLE 0.5 NNE, VA US",
         "2024-02-24",
         null,
         null,
         null,
         null,
         "0.12",
         ",,N",
         null,
         null,
         null,
         null,
         "1"
        ],
        [
         "36",
         "US1VACRC002",
         "CHARLOTTESVILLE 0.5 NNE, VA US",
         "2024-02-25",
         null,
         null,
         null,
         null,
         "0.36",
         ",,N",
         null,
         null,
         null,
         null,
         "1"
        ],
        [
         "37",
         "US1VACRC002",
         "CHARLOTTESVILLE 0.5 NNE, VA US",
         "2024-02-26",
         null,
         null,
         null,
         null,
         "0.0",
         ",,N",
         "0.0",
         ",,N",
         null,
         null,
         "0"
        ],
        [
         "38",
         "US1VACRC002",
         "CHARLOTTESVILLE 0.5 NNE, VA US",
         "2024-02-27",
         null,
         null,
         null,
         null,
         "0.0",
         ",,N",
         "0.0",
         ",,N",
         null,
         null,
         "0"
        ],
        [
         "39",
         "US1VACRC002",
         "CHARLOTTESVILLE 0.5 NNE, VA US",
         "2024-02-28",
         null,
         null,
         null,
         null,
         "0.22",
         ",,N",
         null,
         null,
         null,
         null,
         "1"
        ],
        [
         "40",
         "US1VACRC002",
         "CHARLOTTESVILLE 0.5 NNE, VA US",
         "2024-03-01",
         null,
         null,
         null,
         null,
         "0.0",
         ",,N",
         "0.0",
         ",,N",
         null,
         null,
         "0"
        ],
        [
         "42",
         "US1VACRC002",
         "CHARLOTTESVILLE 0.5 NNE, VA US",
         "2024-03-07",
         null,
         null,
         null,
         null,
         "0.25",
         ",,N",
         null,
         null,
         null,
         null,
         "1"
        ],
        [
         "43",
         "US1VACRC002",
         "CHARLOTTESVILLE 0.5 NNE, VA US",
         "2024-03-09",
         null,
         null,
         null,
         null,
         "0.22",
         ",,N",
         null,
         null,
         null,
         null,
         "1"
        ],
        [
         "44",
         "US1VACRC002",
         "CHARLOTTESVILLE 0.5 NNE, VA US",
         "2024-03-23",
         null,
         null,
         null,
         null,
         "0.99",
         ",,N",
         null,
         null,
         null,
         null,
         "1"
        ],
        [
         "45",
         "US1VACRC002",
         "CHARLOTTESVILLE 0.5 NNE, VA US",
         "2024-03-24",
         null,
         null,
         null,
         null,
         "0.0",
         ",,N",
         "0.0",
         ",,N",
         null,
         null,
         "0"
        ],
        [
         "46",
         "US1VACRC002",
         "CHARLOTTESVILLE 0.5 NNE, VA US",
         "2024-03-25",
         null,
         null,
         null,
         null,
         "0.0",
         ",,N",
         "0.0",
         ",,N",
         null,
         null,
         "0"
        ],
        [
         "47",
         "US1VACRC002",
         "CHARLOTTESVILLE 0.5 NNE, VA US",
         "2024-03-26",
         null,
         null,
         null,
         null,
         "0.0",
         ",,N",
         "0.0",
         ",,N",
         null,
         null,
         "0"
        ],
        [
         "48",
         "US1VACRC002",
         "CHARLOTTESVILLE 0.5 NNE, VA US",
         "2024-03-27",
         null,
         null,
         null,
         null,
         "0.0",
         ",,N",
         "0.0",
         ",,N",
         null,
         null,
         "0"
        ],
        [
         "49",
         "US1VACRC002",
         "CHARLOTTESVILLE 0.5 NNE, VA US",
         "2024-03-28",
         null,
         null,
         null,
         null,
         "0.47",
         ",,N",
         null,
         null,
         null,
         null,
         "1"
        ],
        [
         "50",
         "US1VACRC002",
         "CHARLOTTESVILLE 0.5 NNE, VA US",
         "2024-03-29",
         null,
         null,
         null,
         null,
         "0.0",
         ",,N",
         "0.0",
         ",,N",
         null,
         null,
         "0"
        ]
       ],
       "shape": {
        "columns": 14,
        "rows": 264
       }
      },
      "text/html": [
       "<div>\n",
       "<style scoped>\n",
       "    .dataframe tbody tr th:only-of-type {\n",
       "        vertical-align: middle;\n",
       "    }\n",
       "\n",
       "    .dataframe tbody tr th {\n",
       "        vertical-align: top;\n",
       "    }\n",
       "\n",
       "    .dataframe thead th {\n",
       "        text-align: right;\n",
       "    }\n",
       "</style>\n",
       "<table border=\"1\" class=\"dataframe\">\n",
       "  <thead>\n",
       "    <tr style=\"text-align: right;\">\n",
       "      <th></th>\n",
       "      <th>STATION</th>\n",
       "      <th>NAME</th>\n",
       "      <th>DATE</th>\n",
       "      <th>DAPR</th>\n",
       "      <th>DAPR_ATTRIBUTES</th>\n",
       "      <th>MDPR</th>\n",
       "      <th>MDPR_ATTRIBUTES</th>\n",
       "      <th>PRCP</th>\n",
       "      <th>PRCP_ATTRIBUTES</th>\n",
       "      <th>SNOW</th>\n",
       "      <th>SNOW_ATTRIBUTES</th>\n",
       "      <th>SNWD</th>\n",
       "      <th>SNWD_ATTRIBUTES</th>\n",
       "      <th>rain</th>\n",
       "    </tr>\n",
       "  </thead>\n",
       "  <tbody>\n",
       "    <tr>\n",
       "      <th>0</th>\n",
       "      <td>US1VACRC002</td>\n",
       "      <td>CHARLOTTESVILLE 0.5 NNE, VA US</td>\n",
       "      <td>2024-01-04</td>\n",
       "      <td>NaN</td>\n",
       "      <td>NaN</td>\n",
       "      <td>NaN</td>\n",
       "      <td>NaN</td>\n",
       "      <td>0.03</td>\n",
       "      <td>,,N</td>\n",
       "      <td>NaN</td>\n",
       "      <td>NaN</td>\n",
       "      <td>NaN</td>\n",
       "      <td>NaN</td>\n",
       "      <td>1</td>\n",
       "    </tr>\n",
       "    <tr>\n",
       "      <th>1</th>\n",
       "      <td>US1VACRC002</td>\n",
       "      <td>CHARLOTTESVILLE 0.5 NNE, VA US</td>\n",
       "      <td>2024-01-07</td>\n",
       "      <td>NaN</td>\n",
       "      <td>NaN</td>\n",
       "      <td>NaN</td>\n",
       "      <td>NaN</td>\n",
       "      <td>1.08</td>\n",
       "      <td>,,N</td>\n",
       "      <td>NaN</td>\n",
       "      <td>NaN</td>\n",
       "      <td>NaN</td>\n",
       "      <td>NaN</td>\n",
       "      <td>1</td>\n",
       "    </tr>\n",
       "    <tr>\n",
       "      <th>2</th>\n",
       "      <td>US1VACRC002</td>\n",
       "      <td>CHARLOTTESVILLE 0.5 NNE, VA US</td>\n",
       "      <td>2024-01-09</td>\n",
       "      <td>NaN</td>\n",
       "      <td>NaN</td>\n",
       "      <td>NaN</td>\n",
       "      <td>NaN</td>\n",
       "      <td>0.24</td>\n",
       "      <td>,,N</td>\n",
       "      <td>NaN</td>\n",
       "      <td>NaN</td>\n",
       "      <td>NaN</td>\n",
       "      <td>NaN</td>\n",
       "      <td>1</td>\n",
       "    </tr>\n",
       "    <tr>\n",
       "      <th>3</th>\n",
       "      <td>US1VACRC002</td>\n",
       "      <td>CHARLOTTESVILLE 0.5 NNE, VA US</td>\n",
       "      <td>2024-01-10</td>\n",
       "      <td>NaN</td>\n",
       "      <td>NaN</td>\n",
       "      <td>NaN</td>\n",
       "      <td>NaN</td>\n",
       "      <td>3.00</td>\n",
       "      <td>,,N</td>\n",
       "      <td>NaN</td>\n",
       "      <td>NaN</td>\n",
       "      <td>NaN</td>\n",
       "      <td>NaN</td>\n",
       "      <td>1</td>\n",
       "    </tr>\n",
       "    <tr>\n",
       "      <th>4</th>\n",
       "      <td>US1VACRC002</td>\n",
       "      <td>CHARLOTTESVILLE 0.5 NNE, VA US</td>\n",
       "      <td>2024-01-24</td>\n",
       "      <td>NaN</td>\n",
       "      <td>NaN</td>\n",
       "      <td>NaN</td>\n",
       "      <td>NaN</td>\n",
       "      <td>0.00</td>\n",
       "      <td>,,N</td>\n",
       "      <td>0.0</td>\n",
       "      <td>,,N</td>\n",
       "      <td>NaN</td>\n",
       "      <td>NaN</td>\n",
       "      <td>0</td>\n",
       "    </tr>\n",
       "    <tr>\n",
       "      <th>...</th>\n",
       "      <td>...</td>\n",
       "      <td>...</td>\n",
       "      <td>...</td>\n",
       "      <td>...</td>\n",
       "      <td>...</td>\n",
       "      <td>...</td>\n",
       "      <td>...</td>\n",
       "      <td>...</td>\n",
       "      <td>...</td>\n",
       "      <td>...</td>\n",
       "      <td>...</td>\n",
       "      <td>...</td>\n",
       "      <td>...</td>\n",
       "      <td>...</td>\n",
       "    </tr>\n",
       "    <tr>\n",
       "      <th>266</th>\n",
       "      <td>US1VACRC002</td>\n",
       "      <td>CHARLOTTESVILLE 0.5 NNE, VA US</td>\n",
       "      <td>2025-09-18</td>\n",
       "      <td>NaN</td>\n",
       "      <td>NaN</td>\n",
       "      <td>NaN</td>\n",
       "      <td>NaN</td>\n",
       "      <td>0.04</td>\n",
       "      <td>,,N</td>\n",
       "      <td>NaN</td>\n",
       "      <td>NaN</td>\n",
       "      <td>NaN</td>\n",
       "      <td>NaN</td>\n",
       "      <td>1</td>\n",
       "    </tr>\n",
       "    <tr>\n",
       "      <th>267</th>\n",
       "      <td>US1VACRC002</td>\n",
       "      <td>CHARLOTTESVILLE 0.5 NNE, VA US</td>\n",
       "      <td>2025-09-21</td>\n",
       "      <td>NaN</td>\n",
       "      <td>NaN</td>\n",
       "      <td>NaN</td>\n",
       "      <td>NaN</td>\n",
       "      <td>0.38</td>\n",
       "      <td>,,N</td>\n",
       "      <td>NaN</td>\n",
       "      <td>NaN</td>\n",
       "      <td>NaN</td>\n",
       "      <td>NaN</td>\n",
       "      <td>1</td>\n",
       "    </tr>\n",
       "    <tr>\n",
       "      <th>268</th>\n",
       "      <td>US1VACRC002</td>\n",
       "      <td>CHARLOTTESVILLE 0.5 NNE, VA US</td>\n",
       "      <td>2025-09-25</td>\n",
       "      <td>NaN</td>\n",
       "      <td>NaN</td>\n",
       "      <td>NaN</td>\n",
       "      <td>NaN</td>\n",
       "      <td>0.29</td>\n",
       "      <td>,,N</td>\n",
       "      <td>NaN</td>\n",
       "      <td>NaN</td>\n",
       "      <td>NaN</td>\n",
       "      <td>NaN</td>\n",
       "      <td>1</td>\n",
       "    </tr>\n",
       "    <tr>\n",
       "      <th>269</th>\n",
       "      <td>US1VACRC002</td>\n",
       "      <td>CHARLOTTESVILLE 0.5 NNE, VA US</td>\n",
       "      <td>2025-09-27</td>\n",
       "      <td>NaN</td>\n",
       "      <td>NaN</td>\n",
       "      <td>NaN</td>\n",
       "      <td>NaN</td>\n",
       "      <td>0.24</td>\n",
       "      <td>,,N</td>\n",
       "      <td>NaN</td>\n",
       "      <td>NaN</td>\n",
       "      <td>NaN</td>\n",
       "      <td>NaN</td>\n",
       "      <td>1</td>\n",
       "    </tr>\n",
       "    <tr>\n",
       "      <th>270</th>\n",
       "      <td>US1VACRC002</td>\n",
       "      <td>CHARLOTTESVILLE 0.5 NNE, VA US</td>\n",
       "      <td>2025-09-28</td>\n",
       "      <td>NaN</td>\n",
       "      <td>NaN</td>\n",
       "      <td>NaN</td>\n",
       "      <td>NaN</td>\n",
       "      <td>0.60</td>\n",
       "      <td>,,N</td>\n",
       "      <td>NaN</td>\n",
       "      <td>NaN</td>\n",
       "      <td>NaN</td>\n",
       "      <td>NaN</td>\n",
       "      <td>1</td>\n",
       "    </tr>\n",
       "  </tbody>\n",
       "</table>\n",
       "<p>264 rows × 14 columns</p>\n",
       "</div>"
      ],
      "text/plain": [
       "         STATION                            NAME        DATE  DAPR  \\\n",
       "0    US1VACRC002  CHARLOTTESVILLE 0.5 NNE, VA US  2024-01-04   NaN   \n",
       "1    US1VACRC002  CHARLOTTESVILLE 0.5 NNE, VA US  2024-01-07   NaN   \n",
       "2    US1VACRC002  CHARLOTTESVILLE 0.5 NNE, VA US  2024-01-09   NaN   \n",
       "3    US1VACRC002  CHARLOTTESVILLE 0.5 NNE, VA US  2024-01-10   NaN   \n",
       "4    US1VACRC002  CHARLOTTESVILLE 0.5 NNE, VA US  2024-01-24   NaN   \n",
       "..           ...                             ...         ...   ...   \n",
       "266  US1VACRC002  CHARLOTTESVILLE 0.5 NNE, VA US  2025-09-18   NaN   \n",
       "267  US1VACRC002  CHARLOTTESVILLE 0.5 NNE, VA US  2025-09-21   NaN   \n",
       "268  US1VACRC002  CHARLOTTESVILLE 0.5 NNE, VA US  2025-09-25   NaN   \n",
       "269  US1VACRC002  CHARLOTTESVILLE 0.5 NNE, VA US  2025-09-27   NaN   \n",
       "270  US1VACRC002  CHARLOTTESVILLE 0.5 NNE, VA US  2025-09-28   NaN   \n",
       "\n",
       "    DAPR_ATTRIBUTES  MDPR MDPR_ATTRIBUTES  PRCP PRCP_ATTRIBUTES  SNOW  \\\n",
       "0               NaN   NaN             NaN  0.03             ,,N   NaN   \n",
       "1               NaN   NaN             NaN  1.08             ,,N   NaN   \n",
       "2               NaN   NaN             NaN  0.24             ,,N   NaN   \n",
       "3               NaN   NaN             NaN  3.00             ,,N   NaN   \n",
       "4               NaN   NaN             NaN  0.00             ,,N   0.0   \n",
       "..              ...   ...             ...   ...             ...   ...   \n",
       "266             NaN   NaN             NaN  0.04             ,,N   NaN   \n",
       "267             NaN   NaN             NaN  0.38             ,,N   NaN   \n",
       "268             NaN   NaN             NaN  0.29             ,,N   NaN   \n",
       "269             NaN   NaN             NaN  0.24             ,,N   NaN   \n",
       "270             NaN   NaN             NaN  0.60             ,,N   NaN   \n",
       "\n",
       "    SNOW_ATTRIBUTES  SNWD SNWD_ATTRIBUTES  rain  \n",
       "0               NaN   NaN             NaN     1  \n",
       "1               NaN   NaN             NaN     1  \n",
       "2               NaN   NaN             NaN     1  \n",
       "3               NaN   NaN             NaN     1  \n",
       "4               ,,N   NaN             NaN     0  \n",
       "..              ...   ...             ...   ...  \n",
       "266             NaN   NaN             NaN     1  \n",
       "267             NaN   NaN             NaN     1  \n",
       "268             NaN   NaN             NaN     1  \n",
       "269             NaN   NaN             NaN     1  \n",
       "270             NaN   NaN             NaN     1  \n",
       "\n",
       "[264 rows x 14 columns]"
      ]
     },
     "execution_count": 32,
     "metadata": {},
     "output_type": "execute_result"
    }
   ],
   "source": [
    "weather['rain'] = (weather['PRCP'] > 0).astype(int)\n",
    "weather"
   ]
  },
  {
   "cell_type": "code",
   "execution_count": 33,
   "id": "41eeb8d0",
   "metadata": {},
   "outputs": [
    {
     "name": "stdout",
     "output_type": "stream",
     "text": [
      "\n",
      "Transition Counts:\n",
      " [[ 86.  37.]\n",
      " [ 37. 103.]]\n",
      "\n",
      "State Counts: \n",
      " [[123.]\n",
      " [140.]]\n",
      "\n",
      "State proportions: \n",
      " [[0.46768061]\n",
      " [0.53231939]]\n",
      "\n",
      "Transition Proportions:\n"
     ]
    },
    {
     "data": {
      "application/vnd.microsoft.datawrangler.viewer.v0+json": {
       "columns": [
        {
         "name": "index",
         "rawType": "int64",
         "type": "integer"
        },
        {
         "name": "0",
         "rawType": "float64",
         "type": "float"
        },
        {
         "name": "1",
         "rawType": "float64",
         "type": "float"
        }
       ],
       "ref": "da7534e8-2465-4346-8a40-a216f9681957",
       "rows": [
        [
         "0",
         "0.7",
         "0.3"
        ],
        [
         "1",
         "0.26",
         "0.74"
        ]
       ],
       "shape": {
        "columns": 2,
        "rows": 2
       }
      },
      "text/html": [
       "<div>\n",
       "<style scoped>\n",
       "    .dataframe tbody tr th:only-of-type {\n",
       "        vertical-align: middle;\n",
       "    }\n",
       "\n",
       "    .dataframe tbody tr th {\n",
       "        vertical-align: top;\n",
       "    }\n",
       "\n",
       "    .dataframe thead th {\n",
       "        text-align: right;\n",
       "    }\n",
       "</style>\n",
       "<table border=\"1\" class=\"dataframe\">\n",
       "  <thead>\n",
       "    <tr style=\"text-align: right;\">\n",
       "      <th></th>\n",
       "      <th>0</th>\n",
       "      <th>1</th>\n",
       "    </tr>\n",
       "  </thead>\n",
       "  <tbody>\n",
       "    <tr>\n",
       "      <th>0</th>\n",
       "      <td>0.70</td>\n",
       "      <td>0.30</td>\n",
       "    </tr>\n",
       "    <tr>\n",
       "      <th>1</th>\n",
       "      <td>0.26</td>\n",
       "      <td>0.74</td>\n",
       "    </tr>\n",
       "  </tbody>\n",
       "</table>\n",
       "</div>"
      ],
      "text/plain": [
       "      0     1\n",
       "0  0.70  0.30\n",
       "1  0.26  0.74"
      ]
     },
     "execution_count": 33,
     "metadata": {},
     "output_type": "execute_result"
    }
   ],
   "source": [
    "seq = weather['rain'].tolist()\n",
    "states = [0, 1]\n",
    "\n",
    "\n",
    "## Create a S X S transition matrix, and find the transition counts:\n",
    "S = len(states)\n",
    "T = len(seq)\n",
    "tr_counts = np.zeros( (S, S) )\n",
    "\n",
    "for t in range(1,T): # For each transition\n",
    "    # Current and next tokens:\n",
    "    x_tm1 = seq[t-1] # previous state\n",
    "    x_t = seq[t] # current state\n",
    "    # Determine transition indices:\n",
    "    index_from = states.index(x_tm1)\n",
    "    index_to = states.index(x_t)\n",
    "    # Update transition counts:\n",
    "    tr_counts[index_to, index_from] += 1\n",
    "\n",
    "print(f'\\nTransition Counts:\\n {tr_counts}')\n",
    "\n",
    "# Sum the transition counts by row:\n",
    "sums = tr_counts.sum(axis=1, keepdims=True)\n",
    "print(f'\\nState Counts: \\n {sums}')\n",
    "\n",
    "# Sum the transition counts by row:\n",
    "print(f'\\nState proportions: \\n {sums/np.sum(sums)}')\n",
    "\n",
    "# Normalize the transition count matrix to get proportions:\n",
    "tr_pr = np.divide(tr_counts, sums, \n",
    "                            out=np.zeros_like(tr_counts), \n",
    "                            where= sums!=0)\n",
    "\n",
    "tr_pr_1 = tr_pr # Save transition matrix for later\n",
    "\n",
    "print(f'\\nTransition Proportions:')\n",
    "pd.DataFrame(np.round(tr_pr,2), index=states, columns=states)"
   ]
  },
  {
   "cell_type": "code",
   "execution_count": 34,
   "id": "3af5366b",
   "metadata": {},
   "outputs": [
    {
     "name": "stdout",
     "output_type": "stream",
     "text": [
      "Transition matrix:\n",
      " [[0.69918699 0.30081301]\n",
      " [0.26428571 0.73571429]] \n",
      "\n",
      "Initial Density:\n",
      " [[0.]\n",
      " [1.]] \n",
      "\n",
      "[0.30081301 0.73571429]\n",
      "[0.43163697 0.62077609]\n",
      "[0.48853248 0.57078932]\n",
      "[0.51327641 0.54905001]\n",
      "[0.52403757 0.53959556]\n",
      "[0.52871762 0.53548381]\n",
      "[0.53075298 0.5336956 ]\n",
      "[0.53163816 0.53291791]\n",
      "[0.53202312 0.53257969]\n",
      "[0.53219054 0.53243259]\n"
     ]
    }
   ],
   "source": [
    "initial_state = 1 # Choose an initial state at random\n",
    "state_index = states.index(initial_state) # Get the index of the initial state\n",
    "\n",
    "##Initial density:\n",
    "density = np.zeros(len(states))\n",
    "density[state_index] = 1\n",
    "\n",
    "print(f'Transition matrix:\\n {tr_pr} \\n')\n",
    "print(f'Initial Density:\\n {density.reshape(-1,1)} \\n')\n",
    "\n",
    "for k in range(10):\n",
    "    density = tr_pr_1 @ density\n",
    "    print(density)\n"
   ]
  },
  {
   "cell_type": "markdown",
   "id": "b953c2c4",
   "metadata": {},
   "source": [
    "4. Taxicab trajectories: Using the pickled taxicab data, we want to complete the exercise from class.\n",
    "\n",
    "- For the taxicab trajectory data, determine your state space and clean your sequences of cab rides.\n",
    "- Compute the transition matrix for the taxicab data between neighborhoods in Manhattan. Plot it in a heat map. What are the most common routes?\n",
    "- Explain why taxicabs are most likely order 1, and not 2 or more.\n",
    "- Starting at Hell's Kitchen, create a sequence of forecasts of where the cab is likely to be in 2, 3, 5, and 10 trips\n",
    "- Starting at any neighborhood, iterate your forecast until it is no longer changing very much. Where do cabs spend most of their time working in Manhattan?"
   ]
  },
  {
   "cell_type": "code",
   "execution_count": 39,
   "id": "9e4e5a06",
   "metadata": {},
   "outputs": [],
   "source": [
    "import numpy as np\n",
    "import pandas as pd\n",
    "import seaborn as sns\n",
    "import matplotlib.pyplot as plt\n",
    "import pickle"
   ]
  },
  {
   "cell_type": "code",
   "execution_count": 40,
   "id": "6a3c9aa9",
   "metadata": {},
   "outputs": [
    {
     "data": {
      "application/vnd.microsoft.datawrangler.viewer.v0+json": {
       "columns": [
        {
         "name": "index",
         "rawType": "int64",
         "type": "integer"
        },
        {
         "name": "nbhd",
         "rawType": "object",
         "type": "string"
        }
       ],
       "ref": "691d0913-0eef-466f-a676-b33496dca567",
       "rows": [
        [
         "0",
         "Outside Manhattan"
        ],
        [
         "0",
         "Outside Manhattan"
        ],
        [
         "0",
         "Outside Manhattan"
        ],
        [
         "0",
         "Outside Manhattan"
        ],
        [
         "0",
         "Outside Manhattan"
        ],
        [
         "0",
         "Outside Manhattan"
        ],
        [
         "0",
         "Outside Manhattan"
        ],
        [
         "2",
         "Central Park"
        ],
        [
         "2",
         "Central Park"
        ],
        [
         "34",
         "Upper East Side"
        ],
        [
         "34",
         "Upper East Side"
        ],
        [
         "35",
         "Upper West Side"
        ],
        [
         "35",
         "Upper West Side"
        ],
        [
         "0",
         "Outside Manhattan"
        ],
        [
         "20",
         "Lower East Side"
        ],
        [
         "12",
         "Gramercy"
        ],
        [
         "17",
         "Kips Bay"
        ],
        [
         "22",
         "Midtown"
        ],
        [
         "3",
         "Chelsea"
        ],
        [
         "0",
         "Outside Manhattan"
        ],
        [
         "0",
         "Outside Manhattan"
        ],
        [
         "22",
         "Midtown"
        ],
        [
         "22",
         "Midtown"
        ],
        [
         "31",
         "Theater District"
        ],
        [
         "9",
         "Financial District"
        ],
        [
         "22",
         "Midtown"
        ],
        [
         "31",
         "Theater District"
        ],
        [
         "31",
         "Theater District"
        ],
        [
         "22",
         "Midtown"
        ],
        [
         "22",
         "Midtown"
        ],
        [
         "3",
         "Chelsea"
        ],
        [
         "13",
         "Greenwich Village"
        ],
        [
         "22",
         "Midtown"
        ],
        [
         "24",
         "Murray Hill"
        ],
        [
         "17",
         "Kips Bay"
        ],
        [
         "17",
         "Kips Bay"
        ],
        [
         "3",
         "Chelsea"
        ],
        [
         "3",
         "Chelsea"
        ],
        [
         "13",
         "Greenwich Village"
        ],
        [
         "13",
         "Greenwich Village"
        ],
        [
         "34",
         "Upper East Side"
        ],
        [
         "34",
         "Upper East Side"
        ],
        [
         "34",
         "Upper East Side"
        ],
        [
         "22",
         "Midtown"
        ],
        [
         "22",
         "Midtown"
        ],
        [
         "0",
         "Outside Manhattan"
        ],
        [
         "0",
         "Outside Manhattan"
        ],
        [
         "24",
         "Murray Hill"
        ],
        [
         "22",
         "Midtown"
        ],
        [
         "34",
         "Upper East Side"
        ]
       ],
       "shape": {
        "columns": 1,
        "rows": 26026
       }
      },
      "text/plain": [
       "0     Outside Manhattan\n",
       "0     Outside Manhattan\n",
       "0     Outside Manhattan\n",
       "0     Outside Manhattan\n",
       "0     Outside Manhattan\n",
       "            ...        \n",
       "29                 SoHo\n",
       "29                 SoHo\n",
       "13    Greenwich Village\n",
       "3               Chelsea\n",
       "3               Chelsea\n",
       "Name: nbhd, Length: 26026, dtype: object"
      ]
     },
     "execution_count": 40,
     "metadata": {},
     "output_type": "execute_result"
    }
   ],
   "source": [
    "with open('taxicab.pkl', 'rb') as f:\n",
    "    data = pickle.load(f)\n",
    "\n",
    "data[0]"
   ]
  },
  {
   "cell_type": "code",
   "execution_count": 41,
   "id": "973d5eb8",
   "metadata": {},
   "outputs": [],
   "source": [
    "states = set()\n",
    "\n",
    "for trip in data:\n",
    "    states.update(trip)\n",
    "\n",
    "states = list(states)"
   ]
  },
  {
   "cell_type": "code",
   "execution_count": 42,
   "id": "5b585af0",
   "metadata": {},
   "outputs": [],
   "source": [
    "tr_counts = np.zeros((len(states),len(states)))\n",
    "for trip in data:\n",
    "    seq = np.array(trip)\n",
    "    for t in range(1,len(seq)):\n",
    "        # Current and next tokens:\n",
    "        x_tm1 = seq[t-1] # previous state\n",
    "        x_t = seq[t] # current state\n",
    "        # Determine transition indices:\n",
    "        index_from = states.index(x_tm1)\n",
    "        index_to = states.index(x_t)\n",
    "        # Update transition counts:\n",
    "        tr_counts[index_to, index_from] += 1"
   ]
  },
  {
   "cell_type": "code",
   "execution_count": 43,
   "id": "6a4085a7",
   "metadata": {},
   "outputs": [
    {
     "name": "stdout",
     "output_type": "stream",
     "text": [
      "Transition Counts:\n",
      " [[1.283151e+06 1.314900e+04 3.700000e+01 ... 1.335800e+04 3.685000e+03\n",
      "  1.932090e+05]\n",
      " [1.260500e+04 3.239700e+04 4.900000e+01 ... 5.340000e+02 8.861000e+03\n",
      "  4.077300e+04]\n",
      " [3.400000e+01 8.000000e+00 1.600000e+01 ... 0.000000e+00 2.900000e+01\n",
      "  8.400000e+01]\n",
      " ...\n",
      " [1.156000e+04 4.130000e+02 4.000000e+00 ... 7.824000e+04 2.420000e+02\n",
      "  4.675000e+03]\n",
      " [6.048000e+03 2.868000e+03 3.300000e+01 ... 5.770000e+02 1.123400e+04\n",
      "  1.280100e+04]\n",
      " [1.948010e+05 5.683200e+04 7.100000e+01 ... 5.947000e+03 1.303900e+04\n",
      "  7.639630e+05]]\n",
      "\n",
      "State proportions: \n",
      " [[1.21838766e-01 7.08593302e-03 2.14698849e-05 1.02946661e-01\n",
      "  2.18510298e-02 4.61058158e-03 4.63283535e-03 1.92302667e-02\n",
      "  4.52391815e-04 2.52194936e-03 9.98306100e-03 1.68061730e-03\n",
      "  1.72146670e-02 3.65536767e-02 4.84627127e-03 1.56908713e-04\n",
      "  9.45659155e-03 5.22593548e-07 1.77958345e-02 8.61532917e-02\n",
      "  4.35494623e-08 1.67752050e-01 3.80647124e-02 3.86998378e-02\n",
      "  6.23236356e-04 1.30648387e-07 5.33191310e-02 1.37984294e-02\n",
      "  1.61187448e-02 2.21135895e-02 2.22215051e-02 2.84987682e-02\n",
      "  7.59154228e-03 2.39780291e-02 3.48831193e-04 1.61382549e-02\n",
      "  3.15829411e-03 7.85415424e-02]]\n",
      "Transition Proportions:\n",
      "\n",
      "                     Upper East Side  Morningside Heights  Marble Hill  \\\n",
      "Upper East Side                 0.46                 0.08         0.08   \n",
      "Morningside Heights             0.00                 0.20         0.10   \n",
      "Marble Hill                     0.00                 0.00         0.03   \n",
      "Outside Manhattan               0.05                 0.04         0.11   \n",
      "Gramercy                        0.01                 0.00         0.00   \n",
      "Chinatown                       0.00                 0.00         0.00   \n",
      "Nolita                          0.00                 0.00         0.00   \n",
      "Financial District              0.01                 0.00         0.00   \n",
      "Two Bridges                     0.00                 0.00         0.00   \n",
      "Civic Center                    0.00                 0.00         0.00   \n",
      "Battery Park City               0.00                 0.00         0.00   \n",
      "Little Italy                    0.00                 0.00         0.00   \n",
      "Flatiron District               0.01                 0.00         0.00   \n",
      "West Village                    0.01                 0.01         0.02   \n",
      "Stuyvesant Town                 0.00                 0.00         0.00   \n",
      "Randall's Island                0.00                 0.00         0.00   \n",
      "Harlem                          0.01                 0.06         0.06   \n",
      "Governors Island                0.00                 0.00         0.00   \n",
      "Tribeca                         0.00                 0.00         0.00   \n",
      "Chelsea                         0.03                 0.03         0.03   \n",
      "Liberty Island                  0.00                 0.00         0.00   \n",
      "Midtown                         0.18                 0.06         0.07   \n",
      "Theater District                0.02                 0.02         0.02   \n",
      "East Village                    0.01                 0.01         0.00   \n",
      "Inwood                          0.00                 0.00         0.10   \n",
      "Ellis Island                    0.00                 0.00         0.00   \n",
      "Hell's Kitchen                  0.02                 0.04         0.08   \n",
      "East Harlem                     0.03                 0.03         0.03   \n",
      "Central Park                    0.03                 0.02         0.01   \n",
      "Kips Bay                        0.01                 0.00         0.01   \n",
      "Greenwich Village               0.01                 0.00         0.00   \n",
      "Murray Hill                     0.02                 0.00         0.01   \n",
      "NoHo                            0.00                 0.00         0.00   \n",
      "SoHo                            0.01                 0.00         0.00   \n",
      "Roosevelt Island                0.00                 0.00         0.00   \n",
      "Lower East Side                 0.00                 0.00         0.01   \n",
      "Washington Heights              0.00                 0.02         0.07   \n",
      "Upper West Side                 0.07                 0.35         0.14   \n",
      "\n",
      "                     Outside Manhattan  Gramercy  Chinatown  Nolita  \\\n",
      "Upper East Side                   0.06      0.05       0.02    0.03   \n",
      "Morningside Heights               0.00      0.00       0.00    0.00   \n",
      "Marble Hill                       0.00      0.00       0.00    0.00   \n",
      "Outside Manhattan                 0.51      0.05       0.11    0.11   \n",
      "Gramercy                          0.01      0.18       0.02    0.03   \n",
      "Chinatown                         0.01      0.00       0.13    0.01   \n",
      "Nolita                            0.01      0.00       0.02    0.16   \n",
      "Financial District                0.02      0.01       0.06    0.02   \n",
      "Two Bridges                       0.00      0.00       0.00    0.00   \n",
      "Civic Center                      0.01      0.00       0.02    0.00   \n",
      "Battery Park City                 0.01      0.01       0.01    0.01   \n",
      "Little Italy                      0.00      0.00       0.03    0.01   \n",
      "Flatiron District                 0.01      0.03       0.01    0.01   \n",
      "West Village                      0.01      0.03       0.03    0.05   \n",
      "Stuyvesant Town                   0.00      0.02       0.01    0.01   \n",
      "Randall's Island                  0.00      0.00       0.00    0.00   \n",
      "Harlem                            0.01      0.00       0.00    0.00   \n",
      "Governors Island                  0.00      0.00       0.00    0.00   \n",
      "Tribeca                           0.02      0.01       0.05    0.02   \n",
      "Chelsea                           0.03      0.10       0.05    0.06   \n",
      "Liberty Island                    0.00      0.00       0.00    0.00   \n",
      "Midtown                           0.08      0.13       0.06    0.07   \n",
      "Theater District                  0.02      0.02       0.02    0.01   \n",
      "East Village                      0.03      0.08       0.08    0.09   \n",
      "Inwood                            0.00      0.00       0.00    0.00   \n",
      "Ellis Island                      0.00      0.00       0.00    0.00   \n",
      "Hell's Kitchen                    0.02      0.02       0.02    0.02   \n",
      "East Harlem                       0.01      0.00       0.00    0.00   \n",
      "Central Park                      0.00      0.00       0.00    0.00   \n",
      "Kips Bay                          0.01      0.06       0.02    0.02   \n",
      "Greenwich Village                 0.01      0.04       0.02    0.04   \n",
      "Murray Hill                       0.01      0.05       0.01    0.02   \n",
      "NoHo                              0.01      0.01       0.02    0.05   \n",
      "SoHo                              0.02      0.02       0.06    0.09   \n",
      "Roosevelt Island                  0.00      0.00       0.00    0.00   \n",
      "Lower East Side                   0.04      0.02       0.10    0.05   \n",
      "Washington Heights                0.00      0.00       0.00    0.00   \n",
      "Upper West Side                   0.02      0.02       0.01    0.02   \n",
      "\n",
      "                     Financial District  Two Bridges  Civic Center  ...  \\\n",
      "Upper East Side                    0.03         0.02          0.03  ...   \n",
      "Morningside Heights                0.00         0.00          0.00  ...   \n",
      "Marble Hill                        0.00         0.00          0.00  ...   \n",
      "Outside Manhattan                  0.08         0.09          0.09  ...   \n",
      "Gramercy                           0.01         0.02          0.01  ...   \n",
      "Chinatown                          0.02         0.07          0.03  ...   \n",
      "Nolita                             0.01         0.01          0.01  ...   \n",
      "Financial District                 0.31         0.21          0.11  ...   \n",
      "Two Bridges                        0.00         0.08          0.00  ...   \n",
      "Civic Center                       0.01         0.02          0.09  ...   \n",
      "Battery Park City                  0.04         0.02          0.02  ...   \n",
      "Little Italy                       0.00         0.01          0.01  ...   \n",
      "Flatiron District                  0.01         0.01          0.01  ...   \n",
      "West Village                       0.04         0.02          0.04  ...   \n",
      "Stuyvesant Town                    0.01         0.01          0.00  ...   \n",
      "Randall's Island                   0.00         0.00          0.00  ...   \n",
      "Harlem                             0.00         0.00          0.00  ...   \n",
      "Governors Island                   0.00         0.00          0.00  ...   \n",
      "Tribeca                            0.08         0.05          0.14  ...   \n",
      "Chelsea                            0.05         0.03          0.05  ...   \n",
      "Liberty Island                     0.00         0.00          0.00  ...   \n",
      "Midtown                            0.08         0.06          0.07  ...   \n",
      "Theater District                   0.02         0.01          0.02  ...   \n",
      "East Village                       0.04         0.06          0.04  ...   \n",
      "Inwood                             0.00         0.00          0.00  ...   \n",
      "Ellis Island                       0.00         0.00          0.00  ...   \n",
      "Hell's Kitchen                     0.02         0.01          0.02  ...   \n",
      "East Harlem                        0.00         0.01          0.00  ...   \n",
      "Central Park                       0.00         0.00          0.00  ...   \n",
      "Kips Bay                           0.01         0.01          0.01  ...   \n",
      "Greenwich Village                  0.02         0.01          0.02  ...   \n",
      "Murray Hill                        0.01         0.01          0.02  ...   \n",
      "NoHo                               0.01         0.01          0.01  ...   \n",
      "SoHo                               0.04         0.03          0.07  ...   \n",
      "Roosevelt Island                   0.00         0.00          0.00  ...   \n",
      "Lower East Side                    0.03         0.10          0.04  ...   \n",
      "Washington Heights                 0.00         0.00          0.00  ...   \n",
      "Upper West Side                    0.01         0.01          0.01  ...   \n",
      "\n",
      "                     Central Park  Kips Bay  Greenwich Village  Murray Hill  \\\n",
      "Upper East Side              0.20      0.07               0.03         0.09   \n",
      "Morningside Heights          0.01      0.00               0.00         0.00   \n",
      "Marble Hill                  0.00      0.00               0.00         0.00   \n",
      "Outside Manhattan            0.03      0.05               0.06         0.06   \n",
      "Gramercy                     0.01      0.05               0.03         0.03   \n",
      "Chinatown                    0.00      0.00               0.01         0.00   \n",
      "Nolita                       0.00      0.00               0.01         0.00   \n",
      "Financial District           0.00      0.01               0.02         0.01   \n",
      "Two Bridges                  0.00      0.00               0.00         0.00   \n",
      "Civic Center                 0.00      0.00               0.00         0.00   \n",
      "Battery Park City            0.00      0.00               0.01         0.00   \n",
      "Little Italy                 0.00      0.00               0.00         0.00   \n",
      "Flatiron District            0.01      0.03               0.02         0.02   \n",
      "West Village                 0.01      0.02               0.08         0.02   \n",
      "Stuyvesant Town              0.00      0.01               0.01         0.01   \n",
      "Randall's Island             0.00      0.00               0.00         0.00   \n",
      "Harlem                       0.01      0.00               0.00         0.00   \n",
      "Governors Island             0.00      0.00               0.00         0.00   \n",
      "Tribeca                      0.00      0.01               0.02         0.01   \n",
      "Chelsea                      0.03      0.07               0.11         0.06   \n",
      "Liberty Island               0.00      0.00               0.00         0.00   \n",
      "Midtown                      0.19      0.19               0.08         0.26   \n",
      "Theater District             0.04      0.02               0.02         0.03   \n",
      "East Village                 0.01      0.06               0.07         0.03   \n",
      "Inwood                       0.00      0.00               0.00         0.00   \n",
      "Ellis Island                 0.00      0.00               0.00         0.00   \n",
      "Hell's Kitchen               0.04      0.02               0.02         0.03   \n",
      "East Harlem                  0.02      0.01               0.00         0.01   \n",
      "Central Park                 0.14      0.00               0.00         0.01   \n",
      "Kips Bay                     0.00      0.19               0.02         0.06   \n",
      "Greenwich Village            0.01      0.02               0.22         0.02   \n",
      "Murray Hill                  0.01      0.09               0.02         0.20   \n",
      "NoHo                         0.00      0.01               0.03         0.01   \n",
      "SoHo                         0.01      0.01               0.05         0.01   \n",
      "Roosevelt Island             0.00      0.00               0.00         0.00   \n",
      "Lower East Side              0.00      0.02               0.02         0.01   \n",
      "Washington Heights           0.00      0.00               0.00         0.00   \n",
      "Upper West Side              0.22      0.02               0.02         0.02   \n",
      "\n",
      "                     NoHo  SoHo  Roosevelt Island  Lower East Side  \\\n",
      "Upper East Side      0.04  0.03              0.19             0.04   \n",
      "Morningside Heights  0.00  0.00              0.00             0.00   \n",
      "Marble Hill          0.00  0.00              0.00             0.00   \n",
      "Outside Manhattan    0.08  0.07              0.28             0.13   \n",
      "Gramercy             0.05  0.02              0.01             0.03   \n",
      "Chinatown            0.01  0.01              0.00             0.02   \n",
      "Nolita               0.01  0.02              0.00             0.02   \n",
      "Financial District   0.02  0.03              0.01             0.03   \n",
      "Two Bridges          0.00  0.00              0.00             0.00   \n",
      "Civic Center         0.00  0.01              0.00             0.00   \n",
      "Battery Park City    0.01  0.02              0.00             0.01   \n",
      "Little Italy         0.00  0.00              0.00             0.00   \n",
      "Flatiron District    0.02  0.02              0.01             0.01   \n",
      "West Village         0.05  0.09              0.01             0.03   \n",
      "Stuyvesant Town      0.01  0.00              0.00             0.01   \n",
      "Randall's Island     0.00  0.00              0.00             0.00   \n",
      "Harlem               0.00  0.00              0.00             0.00   \n",
      "Governors Island     0.00  0.00              0.00             0.00   \n",
      "Tribeca              0.02  0.04              0.01             0.01   \n",
      "Chelsea              0.08  0.09              0.03             0.05   \n",
      "Liberty Island       0.00  0.00              0.00             0.00   \n",
      "Midtown              0.09  0.08              0.15             0.06   \n",
      "Theater District     0.01  0.02              0.02             0.01   \n",
      "East Village         0.12  0.05              0.02             0.15   \n",
      "Inwood               0.00  0.00              0.00             0.00   \n",
      "Ellis Island         0.00  0.00              0.00             0.00   \n",
      "Hell's Kitchen       0.02  0.02              0.02             0.02   \n",
      "East Harlem          0.00  0.00              0.01             0.01   \n",
      "Central Park         0.00  0.00              0.01             0.00   \n",
      "Kips Bay             0.03  0.01              0.02             0.03   \n",
      "Greenwich Village    0.06  0.05              0.01             0.03   \n",
      "Murray Hill          0.03  0.02              0.02             0.02   \n",
      "NoHo                 0.14  0.02              0.00             0.02   \n",
      "SoHo                 0.05  0.25              0.01             0.03   \n",
      "Roosevelt Island     0.00  0.00              0.12             0.00   \n",
      "Lower East Side      0.02  0.02              0.01             0.21   \n",
      "Washington Heights   0.00  0.00              0.00             0.00   \n",
      "Upper West Side      0.02  0.02              0.02             0.02   \n",
      "\n",
      "                     Washington Heights  Upper West Side  \n",
      "Upper East Side                    0.05             0.11  \n",
      "Morningside Heights                0.12             0.02  \n",
      "Marble Hill                        0.00             0.00  \n",
      "Outside Manhattan                  0.06             0.04  \n",
      "Gramercy                           0.00             0.00  \n",
      "Chinatown                          0.00             0.00  \n",
      "Nolita                             0.00             0.00  \n",
      "Financial District                 0.00             0.00  \n",
      "Two Bridges                        0.00             0.00  \n",
      "Civic Center                       0.00             0.00  \n",
      "Battery Park City                  0.00             0.00  \n",
      "Little Italy                       0.00             0.00  \n",
      "Flatiron District                  0.00             0.00  \n",
      "West Village                       0.01             0.01  \n",
      "Stuyvesant Town                    0.00             0.00  \n",
      "Randall's Island                   0.00             0.00  \n",
      "Harlem                             0.14             0.02  \n",
      "Governors Island                   0.00             0.00  \n",
      "Tribeca                            0.00             0.00  \n",
      "Chelsea                            0.03             0.04  \n",
      "Liberty Island                     0.00             0.00  \n",
      "Midtown                            0.05             0.12  \n",
      "Theater District                   0.02             0.04  \n",
      "East Village                       0.01             0.01  \n",
      "Inwood                             0.01             0.00  \n",
      "Ellis Island                       0.00             0.00  \n",
      "Hell's Kitchen                     0.07             0.08  \n",
      "East Harlem                        0.02             0.01  \n",
      "Central Park                       0.01             0.03  \n",
      "Kips Bay                           0.00             0.00  \n",
      "Greenwich Village                  0.00             0.01  \n",
      "Murray Hill                        0.00             0.01  \n",
      "NoHo                               0.00             0.00  \n",
      "SoHo                               0.00             0.00  \n",
      "Roosevelt Island                   0.00             0.00  \n",
      "Lower East Side                    0.00             0.00  \n",
      "Washington Heights                 0.15             0.01  \n",
      "Upper West Side                    0.18             0.42  \n",
      "\n",
      "[38 rows x 38 columns]\n"
     ]
    },
    {
     "data": {
      "image/png": "[encoded data removed]",
      "text/plain": [
       "<Figure size 1200x1000 with 2 Axes>"
      ]
     },
     "metadata": {},
     "output_type": "display_data"
    }
   ],
   "source": [
    "print('Transition Counts:\\n', tr_counts)\n",
    "\n",
    "# Sum the transition counts by row:\n",
    "sums = tr_counts.sum(axis=0, keepdims=True)\n",
    "print(f'\\nState proportions: \\n {sums/np.sum(sums)}')\n",
    "\n",
    "# Normalize the transition count matrix to get proportions:\n",
    "tr_pr = np.divide(tr_counts, sums, \n",
    "                             out=np.zeros_like(tr_counts), \n",
    "                             where=sums!=0)\n",
    "\n",
    "print('Transition Proportions:\\n')\n",
    "\n",
    "tr_df = pd.DataFrame(np.round(tr_pr,2), index=states, columns=states)\n",
    "print(tr_df)\n",
    "\n",
    "plt.figure(figsize=(12, 10))\n",
    "sns.heatmap(tr_pr, \n",
    "            cmap='Blues',    \n",
    "            square=True,          \n",
    "            xticklabels=states,\n",
    "            yticklabels=states,\n",
    "            cbar_kws={'label': 'Transition Probability'})\n",
    "\n",
    "plt.title('Transition Probabilities')\n",
    "plt.xlabel('...To State')\n",
    "plt.ylabel('From State...')\n",
    "plt.xticks(rotation=90)\n",
    "plt.yticks(rotation=0)\n",
    "plt.show()"
   ]
  },
  {
   "cell_type": "code",
   "execution_count": 44,
   "id": "249b782c",
   "metadata": {},
   "outputs": [
    {
     "name": "stdout",
     "output_type": "stream",
     "text": [
      "From Liberty Island to Gramercy: 1.000\n",
      "From Outside Manhattan to Outside Manhattan: 0.509\n",
      "From Upper East Side to Upper East Side: 0.459\n",
      "From Upper West Side to Upper West Side: 0.424\n",
      "From Midtown to Midtown: 0.361\n",
      "From Morningside Heights to Upper West Side: 0.349\n",
      "From Chelsea to Chelsea: 0.335\n",
      "From Ellis Island to Outside Manhattan: 0.333\n",
      "From Ellis Island to Little Italy: 0.333\n",
      "From Governors Island to Outside Manhattan: 0.333\n"
     ]
    }
   ],
   "source": [
    "top_routes = np.dstack(np.unravel_index(np.argsort(-tr_pr.ravel())[:10], tr_pr.shape))[0]\n",
    "for i, j in top_routes:\n",
    "    print(f\"From {states[j]} to {states[i]}: {tr_pr[i,j]:.3f}\")"
   ]
  },
  {
   "cell_type": "markdown",
   "id": "b9a40562",
   "metadata": {},
   "source": [
    "Taxicabs are most likely order 1 because the next neighborhood only depends on the current neighborhood. Drivers usually only choose their nex pickup spot based on where they currently are independent of where they were 2 or 3 trips ago."
   ]
  },
  {
   "cell_type": "code",
   "execution_count": 45,
   "id": "fcfc6cf0",
   "metadata": {},
   "outputs": [],
   "source": [
    "start_state = 'Hell\\'s Kitchen'\n",
    "v0 = np.zeros(len(states))\n",
    "v0[states.index(start_state)] = 1"
   ]
  },
  {
   "cell_type": "code",
   "execution_count": 46,
   "id": "f97fdcd8",
   "metadata": {},
   "outputs": [
    {
     "name": "stdout",
     "output_type": "stream",
     "text": [
      "Midtown            0.172540\n",
      "Hell's Kitchen     0.119190\n",
      "Chelsea            0.108680\n",
      "Upper West Side    0.098946\n",
      "Upper East Side    0.086942\n",
      "dtype: float64 \n",
      "\n",
      "Midtown              0.172649\n",
      "Upper East Side      0.107976\n",
      "Chelsea              0.097194\n",
      "Upper West Side      0.091567\n",
      "Outside Manhattan    0.090016\n",
      "dtype: float64 \n",
      "\n",
      "Midtown              0.169343\n",
      "Upper East Side      0.120441\n",
      "Outside Manhattan    0.099401\n",
      "Chelsea              0.088059\n",
      "Upper West Side      0.082561\n",
      "dtype: float64 \n",
      "\n",
      "Midtown              0.167838\n",
      "Upper East Side      0.121963\n",
      "Outside Manhattan    0.102797\n",
      "Chelsea              0.086142\n",
      "Upper West Side      0.078744\n",
      "dtype: float64\n"
     ]
    }
   ],
   "source": [
    "v2 = np.linalg.matrix_power(tr_pr, 2) @ v0\n",
    "v3 = np.linalg.matrix_power(tr_pr, 3) @ v0\n",
    "v5 = np.linalg.matrix_power(tr_pr, 5) @ v0\n",
    "v10 = np.linalg.matrix_power(tr_pr, 10) @ v0\n",
    "\n",
    "print(pd.Series(v2, index=states).sort_values(ascending=False)[:5], '\\n')\n",
    "print(pd.Series(v3, index=states).sort_values(ascending=False)[:5], '\\n')\n",
    "print(pd.Series(v5, index=states).sort_values(ascending=False)[:5], '\\n')\n",
    "print(pd.Series(v10, index=states).sort_values(ascending=False)[:5])"
   ]
  },
  {
   "cell_type": "code",
   "execution_count": 47,
   "id": "bd77b81f",
   "metadata": {},
   "outputs": [],
   "source": [
    "start_state = 'Greenwich Village'\n",
    "v0 = np.zeros(len(states))\n",
    "v0[states.index(start_state)] = 1"
   ]
  },
  {
   "cell_type": "code",
   "execution_count": 58,
   "id": "37ea1d14",
   "metadata": {},
   "outputs": [
    {
     "name": "stdout",
     "output_type": "stream",
     "text": [
      "Midtown                1.677462e-01\n",
      "Upper East Side        1.218350e-01\n",
      "Outside Manhattan      1.029533e-01\n",
      "Chelsea                8.615370e-02\n",
      "Upper West Side        7.853747e-02\n",
      "Hell's Kitchen         5.331771e-02\n",
      "East Village           3.870131e-02\n",
      "Theater District       3.806400e-02\n",
      "West Village           3.655494e-02\n",
      "Murray Hill            2.849851e-02\n",
      "SoHo                   2.397930e-02\n",
      "Greenwich Village      2.222228e-02\n",
      "Kips Bay               2.211349e-02\n",
      "Gramercy               2.185097e-02\n",
      "Financial District     1.923238e-02\n",
      "Tribeca                1.779704e-02\n",
      "Flatiron District      1.721394e-02\n",
      "Lower East Side        1.613869e-02\n",
      "Central Park           1.611810e-02\n",
      "East Harlem            1.379827e-02\n",
      "Battery Park City      9.983409e-03\n",
      "Harlem                 9.457252e-03\n",
      "NoHo                   7.591918e-03\n",
      "Morningside Heights    7.085497e-03\n",
      "Stuyvesant Town        4.846592e-03\n",
      "Nolita                 4.632852e-03\n",
      "Chinatown              4.610974e-03\n",
      "Washington Heights     3.158641e-03\n",
      "Civic Center           2.521987e-03\n",
      "Little Italy           1.680706e-03\n",
      "Inwood                 6.232767e-04\n",
      "Two Bridges            4.524156e-04\n",
      "Roosevelt Island       3.488339e-04\n",
      "Randall's Island       1.569086e-04\n",
      "Marble Hill            2.146997e-05\n",
      "Governors Island       5.226266e-07\n",
      "Ellis Island           1.306558e-07\n",
      "Liberty Island         4.355189e-08\n",
      "dtype: float64\n"
     ]
    }
   ],
   "source": [
    "v = v0.copy()\n",
    "for _ in range(20):\n",
    "    v = tr_pr @ v\n",
    "\n",
    "print(pd.Series(v, index=states).sort_values(ascending=False))"
   ]
  },
  {
   "cell_type": "markdown",
   "id": "d2514443",
   "metadata": {},
   "source": [
    "In the long run, cabs spend most of their time working in Midtown, followed by the Upper East Side, Outside Manhattan, Chelsea, and Upper West Side. This aligns where a lot of the residential/commercial parts of the City are."
   ]
  }
 ],
 "metadata": {
  "kernelspec": {
   "display_name": "ds5030",
   "language": "python",
   "name": "python3"
  },
  "language_info": {
   "codemirror_mode": {
    "name": "ipython",
    "version": 3
   },
   "file_extension": ".py",
   "mimetype": "text/x-python",
   "name": "python",
   "nbconvert_exporter": "python",
   "pygments_lexer": "ipython3",
   "version": "3.13.5"
  }
 },
 "nbformat": 4,
 "nbformat_minor": 5
}
